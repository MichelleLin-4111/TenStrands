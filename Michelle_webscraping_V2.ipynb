{
 "cells": [
  {
   "cell_type": "code",
   "execution_count": 40,
   "metadata": {},
   "outputs": [],
   "source": [
    "from selenium.webdriver.support.ui import WebDriverWait\n",
    "from selenium.webdriver.support import expected_conditions as EC\n",
    "from bs4 import BeautifulSoup\n",
    "from selenium import webdriver\n",
    "from selenium.webdriver.common.by import By\n",
    "from selenium.webdriver.chrome.options import Options\n",
    "import pandas as pd"
   ]
  },
  {
   "cell_type": "code",
   "execution_count": 45,
   "metadata": {},
   "outputs": [
    {
     "name": "stdout",
     "output_type": "stream",
     "text": [
      "--2023-11-13 13:59:29--  https://dl.google.com/linux/direct/google-chrome-stable_current_amd64.deb\n",
      "Resolving dl.google.com (dl.google.com)... 2607:f8b0:4005:811::200e, 142.251.32.46\n",
      "Connecting to dl.google.com (dl.google.com)|2607:f8b0:4005:811::200e|:443... connected.\n",
      "HTTP request sent, awaiting response... 200 OK\n",
      "Length: 103912068 (99M) [application/x-debian-package]\n",
      "Saving to: 'google-chrome-stable_current_amd64.deb.2'\n",
      "\n",
      "google-chrome-stabl 100%[===================>]  99.10M  15.8MB/s    in 5.9s    \n",
      "\n",
      "2023-11-13 13:59:35 (16.8 MB/s) - 'google-chrome-stable_current_amd64.deb.2' saved [103912068/103912068]\n",
      "\n",
      "The operation couldn’t be completed. Unable to locate a Java Runtime that supports apt.\n",
      "Please visit http://www.java.com for information on installing Java.\n",
      "\n"
     ]
    }
   ],
   "source": [
    "# add this link to help make selenium work\n",
    "!wget https://dl.google.com/linux/direct/google-chrome-stable_current_amd64.deb && apt install ./google-chrome-stable_current_amd64.deb"
   ]
  },
  {
   "cell_type": "code",
   "execution_count": 47,
   "metadata": {},
   "outputs": [
    {
     "name": "stdout",
     "output_type": "stream",
     "text": [
      "--2023-11-13 14:14:00--  https://dl.google.com/linux/direct/google-chrome-stable_current_amd64.deb\n",
      "Resolving dl.google.com (dl.google.com)... 2607:f8b0:4005:811::200e, 142.251.32.46\n",
      "Connecting to dl.google.com (dl.google.com)|2607:f8b0:4005:811::200e|:443... connected.\n",
      "HTTP request sent, awaiting response... 200 OK\n",
      "Length: 103912068 (99M) [application/x-debian-package]\n",
      "Saving to: 'google-chrome-stable_current_amd64.deb.3'\n",
      "\n",
      "google-chrome-stabl 100%[===================>]  99.10M  26.5MB/s    in 3.8s    \n",
      "\n",
      "2023-11-13 14:14:04 (25.8 MB/s) - 'google-chrome-stable_current_amd64.deb.3' saved [103912068/103912068]\n",
      "\n"
     ]
    }
   ],
   "source": [
    "!wget https://dl.google.com/linux/direct/google-chrome-stable_current_amd64.deb\n"
   ]
  },
  {
   "cell_type": "markdown",
   "metadata": {},
   "source": [
    "### # of certified teachers"
   ]
  },
  {
   "cell_type": "code",
   "execution_count": 48,
   "metadata": {},
   "outputs": [
    {
     "name": "stdout",
     "output_type": "stream",
     "text": [
      "no info found\n"
     ]
    },
    {
     "ename": "NoSuchWindowException",
     "evalue": "Message: no such window: target window already closed\nfrom unknown error: web view not found\n  (Session info: chrome=119.0.6045.105)\nStacktrace:\n0   chromedriver                        0x000000010105e004 chromedriver + 4169732\n1   chromedriver                        0x0000000101055ff8 chromedriver + 4136952\n2   chromedriver                        0x0000000100cab500 chromedriver + 292096\n3   chromedriver                        0x0000000100c842d8 chromedriver + 131800\n4   chromedriver                        0x0000000100d17f68 chromedriver + 737128\n5   chromedriver                        0x0000000100d2afac chromedriver + 815020\n6   chromedriver                        0x0000000100ce45e8 chromedriver + 525800\n7   chromedriver                        0x0000000100ce54b8 chromedriver + 529592\n8   chromedriver                        0x0000000101024334 chromedriver + 3932980\n9   chromedriver                        0x0000000101028970 chromedriver + 3950960\n10  chromedriver                        0x000000010100c774 chromedriver + 3835764\n11  chromedriver                        0x0000000101029478 chromedriver + 3953784\n12  chromedriver                        0x0000000100ffeab4 chromedriver + 3779252\n13  chromedriver                        0x0000000101045914 chromedriver + 4069652\n14  chromedriver                        0x0000000101045a90 chromedriver + 4070032\n15  chromedriver                        0x0000000101055c70 chromedriver + 4136048\n16  libsystem_pthread.dylib             0x00000001c374426c _pthread_start + 148\n17  libsystem_pthread.dylib             0x00000001c373f08c thread_start + 8\n",
     "output_type": "error",
     "traceback": [
      "\u001b[0;31m---------------------------------------------------------------------------\u001b[0m",
      "\u001b[0;31mNoSuchWindowException\u001b[0m                     Traceback (most recent call last)",
      "\u001b[1;32m/Users/michellelin/Desktop/Ten Strands/Michelle_webscraping_V2.ipynb Cell 5\u001b[0m line \u001b[0;36m<cell line: 33>\u001b[0;34m()\u001b[0m\n\u001b[1;32m     <a href='vscode-notebook-cell:/Users/michellelin/Desktop/Ten%20Strands/Michelle_webscraping_V2.ipynb#W3sZmlsZQ%3D%3D?line=29'>30</a>\u001b[0m     \u001b[39mprint\u001b[39m(\u001b[39m'\u001b[39m\u001b[39mno info found\u001b[39m\u001b[39m'\u001b[39m)\n\u001b[1;32m     <a href='vscode-notebook-cell:/Users/michellelin/Desktop/Ten%20Strands/Michelle_webscraping_V2.ipynb#W3sZmlsZQ%3D%3D?line=31'>32</a>\u001b[0m \u001b[39m# Find all <th> elements within the <thead>\u001b[39;00m\n\u001b[0;32m---> <a href='vscode-notebook-cell:/Users/michellelin/Desktop/Ten%20Strands/Michelle_webscraping_V2.ipynb#W3sZmlsZQ%3D%3D?line=32'>33</a>\u001b[0m th_elements \u001b[39m=\u001b[39m thead\u001b[39m.\u001b[39;49mfind_elements(By\u001b[39m.\u001b[39;49mTAG_NAME, \u001b[39m'\u001b[39;49m\u001b[39mth\u001b[39;49m\u001b[39m'\u001b[39;49m)\n\u001b[1;32m     <a href='vscode-notebook-cell:/Users/michellelin/Desktop/Ten%20Strands/Michelle_webscraping_V2.ipynb#W3sZmlsZQ%3D%3D?line=34'>35</a>\u001b[0m \u001b[39m# Initialize a variable to store the index of \"2018-19\" column\u001b[39;00m\n\u001b[1;32m     <a href='vscode-notebook-cell:/Users/michellelin/Desktop/Ten%20Strands/Michelle_webscraping_V2.ipynb#W3sZmlsZQ%3D%3D?line=35'>36</a>\u001b[0m target_column_index \u001b[39m=\u001b[39m \u001b[39mNone\u001b[39;00m\n",
      "File \u001b[0;32m~/opt/anaconda3/lib/python3.9/site-packages/selenium/webdriver/remote/webelement.py:438\u001b[0m, in \u001b[0;36mWebElement.find_elements\u001b[0;34m(self, by, value)\u001b[0m\n\u001b[1;32m    435\u001b[0m     by \u001b[39m=\u001b[39m By\u001b[39m.\u001b[39mCSS_SELECTOR\n\u001b[1;32m    436\u001b[0m     value \u001b[39m=\u001b[39m \u001b[39mf\u001b[39m\u001b[39m'\u001b[39m\u001b[39m[name=\u001b[39m\u001b[39m\"\u001b[39m\u001b[39m{\u001b[39;00mvalue\u001b[39m}\u001b[39;00m\u001b[39m\"\u001b[39m\u001b[39m]\u001b[39m\u001b[39m'\u001b[39m\n\u001b[0;32m--> 438\u001b[0m \u001b[39mreturn\u001b[39;00m \u001b[39mself\u001b[39;49m\u001b[39m.\u001b[39;49m_execute(Command\u001b[39m.\u001b[39;49mFIND_CHILD_ELEMENTS, {\u001b[39m\"\u001b[39;49m\u001b[39musing\u001b[39;49m\u001b[39m\"\u001b[39;49m: by, \u001b[39m\"\u001b[39;49m\u001b[39mvalue\u001b[39;49m\u001b[39m\"\u001b[39;49m: value})[\u001b[39m\"\u001b[39m\u001b[39mvalue\u001b[39m\u001b[39m\"\u001b[39m]\n",
      "File \u001b[0;32m~/opt/anaconda3/lib/python3.9/site-packages/selenium/webdriver/remote/webelement.py:394\u001b[0m, in \u001b[0;36mWebElement._execute\u001b[0;34m(self, command, params)\u001b[0m\n\u001b[1;32m    392\u001b[0m     params \u001b[39m=\u001b[39m {}\n\u001b[1;32m    393\u001b[0m params[\u001b[39m\"\u001b[39m\u001b[39mid\u001b[39m\u001b[39m\"\u001b[39m] \u001b[39m=\u001b[39m \u001b[39mself\u001b[39m\u001b[39m.\u001b[39m_id\n\u001b[0;32m--> 394\u001b[0m \u001b[39mreturn\u001b[39;00m \u001b[39mself\u001b[39;49m\u001b[39m.\u001b[39;49m_parent\u001b[39m.\u001b[39;49mexecute(command, params)\n",
      "File \u001b[0;32m~/opt/anaconda3/lib/python3.9/site-packages/selenium/webdriver/remote/webdriver.py:344\u001b[0m, in \u001b[0;36mWebDriver.execute\u001b[0;34m(self, driver_command, params)\u001b[0m\n\u001b[1;32m    342\u001b[0m response \u001b[39m=\u001b[39m \u001b[39mself\u001b[39m\u001b[39m.\u001b[39mcommand_executor\u001b[39m.\u001b[39mexecute(driver_command, params)\n\u001b[1;32m    343\u001b[0m \u001b[39mif\u001b[39;00m response:\n\u001b[0;32m--> 344\u001b[0m     \u001b[39mself\u001b[39;49m\u001b[39m.\u001b[39;49merror_handler\u001b[39m.\u001b[39;49mcheck_response(response)\n\u001b[1;32m    345\u001b[0m     response[\u001b[39m\"\u001b[39m\u001b[39mvalue\u001b[39m\u001b[39m\"\u001b[39m] \u001b[39m=\u001b[39m \u001b[39mself\u001b[39m\u001b[39m.\u001b[39m_unwrap_value(response\u001b[39m.\u001b[39mget(\u001b[39m\"\u001b[39m\u001b[39mvalue\u001b[39m\u001b[39m\"\u001b[39m, \u001b[39mNone\u001b[39;00m))\n\u001b[1;32m    346\u001b[0m     \u001b[39mreturn\u001b[39;00m response\n",
      "File \u001b[0;32m~/opt/anaconda3/lib/python3.9/site-packages/selenium/webdriver/remote/errorhandler.py:229\u001b[0m, in \u001b[0;36mErrorHandler.check_response\u001b[0;34m(self, response)\u001b[0m\n\u001b[1;32m    227\u001b[0m         alert_text \u001b[39m=\u001b[39m value[\u001b[39m\"\u001b[39m\u001b[39malert\u001b[39m\u001b[39m\"\u001b[39m]\u001b[39m.\u001b[39mget(\u001b[39m\"\u001b[39m\u001b[39mtext\u001b[39m\u001b[39m\"\u001b[39m)\n\u001b[1;32m    228\u001b[0m     \u001b[39mraise\u001b[39;00m exception_class(message, screen, stacktrace, alert_text)  \u001b[39m# type: ignore[call-arg]  # mypy is not smart enough here\u001b[39;00m\n\u001b[0;32m--> 229\u001b[0m \u001b[39mraise\u001b[39;00m exception_class(message, screen, stacktrace)\n",
      "\u001b[0;31mNoSuchWindowException\u001b[0m: Message: no such window: target window already closed\nfrom unknown error: web view not found\n  (Session info: chrome=119.0.6045.105)\nStacktrace:\n0   chromedriver                        0x000000010105e004 chromedriver + 4169732\n1   chromedriver                        0x0000000101055ff8 chromedriver + 4136952\n2   chromedriver                        0x0000000100cab500 chromedriver + 292096\n3   chromedriver                        0x0000000100c842d8 chromedriver + 131800\n4   chromedriver                        0x0000000100d17f68 chromedriver + 737128\n5   chromedriver                        0x0000000100d2afac chromedriver + 815020\n6   chromedriver                        0x0000000100ce45e8 chromedriver + 525800\n7   chromedriver                        0x0000000100ce54b8 chromedriver + 529592\n8   chromedriver                        0x0000000101024334 chromedriver + 3932980\n9   chromedriver                        0x0000000101028970 chromedriver + 3950960\n10  chromedriver                        0x000000010100c774 chromedriver + 3835764\n11  chromedriver                        0x0000000101029478 chromedriver + 3953784\n12  chromedriver                        0x0000000100ffeab4 chromedriver + 3779252\n13  chromedriver                        0x0000000101045914 chromedriver + 4069652\n14  chromedriver                        0x0000000101045a90 chromedriver + 4070032\n15  chromedriver                        0x0000000101055c70 chromedriver + 4136048\n16  libsystem_pthread.dylib             0x00000001c374426c _pthread_start + 148\n17  libsystem_pthread.dylib             0x00000001c373f08c thread_start + 8\n"
     ]
    }
   ],
   "source": [
    "county = 'Alameda'\n",
    "district = 'Hayward-Unified'\n",
    "# Open a simulated chrome browser \n",
    "driver = webdriver.Chrome()\n",
    "url = f'https://www.ed-data.org/district/{county}/{district}'\n",
    "driver.get(url)\n",
    "\n",
    "# click a button to the Staff page\n",
    "staff_button = driver.find_element(By.XPATH, '//*[@id=\"horizontalTab\"]/ul/li[3]').click()\n",
    "\n",
    "# clicking a button to see the data table\n",
    "# view_teachers_data_button = driver.find_element(By.XPATH, '//*[@id=\"datatable-165\"]/label').click()\n",
    "\n",
    "# extract data using beautiful soup\n",
    "# html = driver.page_source\n",
    "# soup = BeautifulSoup(html, 'html.parser')\n",
    "\n",
    "try:\n",
    "    chart = driver.find_element(By.ID, \"chartContent-165\")\n",
    "    div0 = chart.find_elements(By.TAG_NAME, \"div\")[0]\n",
    "    div1 = div0.find_element(By.ID, \"charttab\") #charttab\n",
    "    div2 = div1.find_elements(By.TAG_NAME, \"div\")[0] #chartdatamenu\n",
    "    div3 = div2.find_elements(By.TAG_NAME, \"div\")[0] #table-div\n",
    "    table = div3.find_elements(By.TAG_NAME, \"table\")[0]\n",
    "    tbody = table.find_elements(By.TAG_NAME, \"tbody\")[0]\n",
    "    thead = table.find_elements(By.TAG_NAME, \"thead\")[0]\n",
    "\n",
    "    \n",
    "except Exception as e:\n",
    "    print('no info found')\n",
    "\n",
    "# Find all <th> elements within the <thead>\n",
    "th_elements = thead.find_elements(By.TAG_NAME, 'th')\n",
    "\n",
    "# Initialize a variable to store the index of \"2018-19\" column\n",
    "target_column_index = None\n",
    "\n",
    "# Iterate through the <th> elements to find the index of the target column\n",
    "for index, th in enumerate(th_elements):\n",
    "    year_html = th.get_attribute('innerHTML')\n",
    "    year = year_html.strip().replace('\\n', '')\n",
    "    if year == \"2018-19\":\n",
    "        target_column_index = index\n",
    "        break\n",
    "\n",
    "# Check if the target column was found\n",
    "if target_column_index is not None:\n",
    "    # Find the <tbody> element\n",
    "    # tbody = teacher_table.find('tbody')\n",
    "\n",
    "    # Find all <td> elements within the <tbody>\n",
    "    tr = tbody.find_elements(By.TAG_NAME, 'tr')[0]\n",
    "    td_elements = tr.find_elements(By.TAG_NAME, \"td\")\n",
    "\n",
    "    # Initialize a variable to store the value in the target column\n",
    "    target_column_value = None\n",
    "\n",
    "    span = td_elements[target_column_index].find_elements(By.TAG_NAME, \"span\")[0] \n",
    "    target_column_value = span.get_attribute(\"innerHTML\")\n",
    "    # Iterate through the <tr> elements to get the value in the target column\n",
    "    # for td in td_elements:\n",
    "    #     # td_elements = tr.find_elements(By.TAGNAME, 'td')\n",
    "    #     # if len(td_elements) > target_column_index:\n",
    "    #         target_column_value = td_elements[target_column_index].get_attribute('innerHTML')\n",
    "    #         break\n",
    "\n",
    "    # Print the value in the \"2018-19\" column\n",
    "    if target_column_value:\n",
    "        print(\"# of Certificated Teachers(2018-19) for \" + district+\": \" , target_column_value)\n",
    "        # driver.quit()\n",
    "        # return target_column_value\n",
    "    else:\n",
    "        print(\"Value not found in '2018-19' column\")\n",
    "        # driver.quit()\n",
    "        # return None\n",
    "else:\n",
    "    print(\"'2018-19' column not found in the table.\")\n",
    "    # driver.quit()\n",
    "    # return None"
   ]
  },
  {
   "cell_type": "code",
   "execution_count": 41,
   "metadata": {},
   "outputs": [],
   "source": [
    "def find_num_teachers(county, district):\n",
    "    '''\n",
    "    county eg. Alameda\n",
    "    district eg. Hayward-Unified\n",
    "    '''\n",
    "    # Open a simulated chrome browser \n",
    "    driver = webdriver.Chrome()\n",
    "    url = f'https://www.ed-data.org/district/{county}/{district}'\n",
    "    driver.get(url)\n",
    "\n",
    "    # click a button to the Staff page\n",
    "    staff_button = driver.find_element(By.XPATH, '//*[@id=\"horizontalTab\"]/ul/li[3]').click()\n",
    "\n",
    "    try:\n",
    "        chart = driver.find_element(By.ID, \"chartContent-165\")\n",
    "        div0 = chart.find_elements(By.TAG_NAME, \"div\")[0]\n",
    "        div1 = div0.find_element(By.ID, \"charttab\") #charttab\n",
    "        div2 = div1.find_elements(By.TAG_NAME, \"div\")[0] #chartdatamenu\n",
    "        div3 = div2.find_elements(By.TAG_NAME, \"div\")[0] #table-div\n",
    "        table = div3.find_elements(By.TAG_NAME, \"table\")[0]\n",
    "        tbody = table.find_elements(By.TAG_NAME, \"tbody\")[0]\n",
    "        thead = table.find_elements(By.TAG_NAME, \"thead\")[0]\n",
    "\n",
    "        \n",
    "    except Exception as e:\n",
    "        print('no info found')\n",
    "\n",
    "    # Find all <th> elements within the <thead>\n",
    "    th_elements = thead.find_elements(By.TAG_NAME, 'th')\n",
    "\n",
    "    # Initialize a variable to store the index of \"2018-19\" column\n",
    "    target_column_index = None\n",
    "\n",
    "    # Iterate through the <th> elements to find the index of the target column\n",
    "    for index, th in enumerate(th_elements):\n",
    "        year_html = th.get_attribute('innerHTML')\n",
    "        year = year_html.strip().replace('\\n', '')\n",
    "        if year == \"2018-19\":\n",
    "            target_column_index = index\n",
    "            break\n",
    "\n",
    "    # Check if the target column was found\n",
    "    if target_column_index is not None:\n",
    "        # Find all <td> elements within the <tbody>\n",
    "        tr = tbody.find_elements(By.TAG_NAME, 'tr')[0]\n",
    "        td_elements = tr.find_elements(By.TAG_NAME, \"td\")\n",
    "\n",
    "        # Initialize a variable to store the value in the target column\n",
    "        target_column_value = None\n",
    "\n",
    "        span = td_elements[target_column_index].find_elements(By.TAG_NAME, \"span\")[0] \n",
    "        target_column_value = span.get_attribute(\"innerHTML\")\n",
    "\n",
    "        # Print the value in the \"2018-19\" column\n",
    "        if target_column_value:\n",
    "            print(\"# of Certificated Teachers(2018-19) for \" + district+\": \" , target_column_value)\n",
    "            driver.quit()\n",
    "            return target_column_value\n",
    "        else:\n",
    "            print(\"Value not found in '2018-19' column\")\n",
    "            driver.quit()\n",
    "            return None\n",
    "    else:\n",
    "        print(\"'2018-19' column not found in the table.\")\n",
    "        driver.quit()\n",
    "        return None"
   ]
  },
  {
   "cell_type": "code",
   "execution_count": 42,
   "metadata": {},
   "outputs": [
    {
     "name": "stdout",
     "output_type": "stream",
     "text": [
      "# of Certificated Teachers(2018-19) for Pleasanton-Unified:  720 \n"
     ]
    }
   ],
   "source": [
    "alameda_pleasanton_unified = find_num_teachers('Alameda', 'Pleasanton-Unified')"
   ]
  },
  {
   "cell_type": "code",
   "execution_count": 8,
   "metadata": {},
   "outputs": [],
   "source": [
    "alameda_text = \"\"\"Hayward Unified\n",
    "Pleasanton Unified\n",
    "Sunol Glen Unified\n",
    "Dublin Unified\n",
    "San Lorenzo Unified\n",
    "San Leandro Unified\n",
    "Piedmont City Unified\n",
    "Mountain House Elementary\n",
    "Alameda Unified\n",
    "Albany City Unified\n",
    "Berkeley Unified\n",
    "New Haven Unified\n",
    "Oakland Unified\n",
    "Castro Valley Unified\n",
    "Emery Unified\n",
    "Livermore Valley Joint Unified\n",
    "Newark Unified\n",
    "Fremont Unified\"\"\""
   ]
  },
  {
   "cell_type": "code",
   "execution_count": 11,
   "metadata": {},
   "outputs": [],
   "source": [
    "def automated_teachers(county_name, districts_text):\n",
    "    '''\n",
    "    county_name eg. 'Alameda'\n",
    "    districts_text: copy the school district names from master county tracker\n",
    "    '''\n",
    "    districts_list = districts_text.split('\\n')\n",
    "    # Add a hyphen between each word in each district name\n",
    "    districts_with_hyphen = ['-'.join(district.split()) for district in districts_list]\n",
    "    teachers_dict = {}\n",
    "    for district in districts_with_hyphen:\n",
    "        teacher_data = find_num_teachers(county_name, district)\n",
    "        teachers_dict[district] = teacher_data\n",
    "    return teachers_dict"
   ]
  },
  {
   "cell_type": "code",
   "execution_count": 12,
   "metadata": {},
   "outputs": [
    {
     "name": "stdout",
     "output_type": "stream",
     "text": [
      "# of Certificated Teachers(2018-19) for Hayward-Unified:  1,116 \n",
      "# of Certificated Teachers(2018-19) for Pleasanton-Unified:  720 \n",
      "# of Certificated Teachers(2018-19) for Sunol-Glen-Unified:  15 \n",
      "# of Certificated Teachers(2018-19) for Dublin-Unified:  574 \n",
      "# of Certificated Teachers(2018-19) for San-Lorenzo-Unified:  568 \n",
      "# of Certificated Teachers(2018-19) for San-Leandro-Unified:  432 \n",
      "# of Certificated Teachers(2018-19) for Piedmont-City-Unified:  181 \n",
      "# of Certificated Teachers(2018-19) for Mountain-House-Elementary:  1 \n",
      "# of Certificated Teachers(2018-19) for Alameda-Unified:  593 \n",
      "# of Certificated Teachers(2018-19) for Albany-City-Unified:  202 \n",
      "# of Certificated Teachers(2018-19) for Berkeley-Unified:  673 \n",
      "# of Certificated Teachers(2018-19) for New-Haven-Unified:  529 \n",
      "# of Certificated Teachers(2018-19) for Oakland-Unified:  3,116 \n",
      "# of Certificated Teachers(2018-19) for Castro-Valley-Unified:  450 \n",
      "# of Certificated Teachers(2018-19) for Emery-Unified:  45 \n",
      "# of Certificated Teachers(2018-19) for Livermore-Valley-Joint-Unified:  691 \n",
      "# of Certificated Teachers(2018-19) for Newark-Unified:  242 \n",
      "# of Certificated Teachers(2018-19) for Fremont-Unified:  1,828 \n"
     ]
    }
   ],
   "source": [
    "alameda_teacher_dict = automated_teachers('Alameda', alameda_text)\n"
   ]
  },
  {
   "cell_type": "code",
   "execution_count": null,
   "metadata": {},
   "outputs": [],
   "source": []
  },
  {
   "cell_type": "markdown",
   "metadata": {},
   "source": [
    "### GO BOND C1-2"
   ]
  },
  {
   "cell_type": "code",
   "execution_count": 13,
   "metadata": {},
   "outputs": [],
   "source": [
    "driver = webdriver.Chrome()\n",
    "driver.get(\"https://www.ed-data.org/district/Alameda/Hayward-Unified\")"
   ]
  },
  {
   "cell_type": "code",
   "execution_count": 14,
   "metadata": {},
   "outputs": [],
   "source": [
    "# click a button to the Local Revenue Elections page\n",
    "elections_button = driver.find_element(By.XPATH, '//*[@id=\"horizontalTab\"]/ul/li[4]').click()\n"
   ]
  },
  {
   "cell_type": "code",
   "execution_count": 15,
   "metadata": {},
   "outputs": [
    {
     "name": "stdout",
     "output_type": "stream",
     "text": [
      "Total GO Bonds and Parcel Taxes Attempted (2000-2029): 5\n",
      "Total GO Bonds and Parcel Taxes Passed (2000-2029): 5\n"
     ]
    }
   ],
   "source": [
    " # extract data using beautiful soup\n",
    "html = driver.page_source\n",
    "soup = BeautifulSoup(html, 'html.parser')\n",
    "main_div = soup.find('div', {\"id\": 'chartContent-153'})\n",
    "table = main_div.find('table', class_='table footable table-bordered master-footable')\n",
    "header_row = table.find('thead').find('tr')\n",
    "\n",
    "# Initialize variables to store the results\n",
    "total_gobonds_and_parcel_taxes_attempted = 0\n",
    "total_gobonds_and_parcel_taxes_passed = 0\n",
    "\n",
    "# Extract column names with years greater than or equal to 2000\n",
    "columns = [col.text.strip() for col in header_row.find_all('th') if '-' in col.text.strip() and int(col.text.strip().split('-')[0]) >= 2000]\n",
    "\n",
    "# Find the rows with \"Total\" and \"Passed\" labels\n",
    "total_row = table.find('tfoot').find('tr', class_='chart-data-total')\n",
    "passed_row = table.find('tbody').find_all('tr', class_='chart-data-row')[1]\n",
    "\n",
    "# Loop through the columns to calculate the totals\n",
    "for i, col_name in enumerate(columns):\n",
    "    # Get the value in the \"Total\" row for the current column\n",
    "    total_value = int(total_row.find_all('td')[i + 1].text.strip())\n",
    "    total_gobonds_and_parcel_taxes_attempted += total_value\n",
    "    \n",
    "    # # Get the value in the \"Passed\" row for the current column\n",
    "    spans = passed_row.find_all(lambda tag: tag.name == 'span' and tag.get('class') == ['view-toggle'])\n",
    "    passed_value = int(spans[i].text.strip())\n",
    "    total_gobonds_and_parcel_taxes_passed += passed_value\n",
    "\n",
    "# Print the results\n",
    "print(\"Total GO Bonds and Parcel Taxes Attempted (2000-2029):\", total_gobonds_and_parcel_taxes_attempted)\n",
    "print(\"Total GO Bonds and Parcel Taxes Passed (2000-2029):\", total_gobonds_and_parcel_taxes_passed)"
   ]
  },
  {
   "cell_type": "code",
   "execution_count": 26,
   "metadata": {},
   "outputs": [],
   "source": [
    "# Mountain House Elementary: no data table\n",
    "def go_bonds_c12(county, district):\n",
    "    '''\n",
    "    Function: Find the first two columns of the GO Bonds information\n",
    "\n",
    "    Input:\n",
    "    county eg. Alameda\n",
    "    district eg. Hayward-Unified\n",
    "\n",
    "    Output:\n",
    "    Total GO Bonds and Parcel Taxes Attempted (2000 - 2029)\n",
    "    Total GO Bonds and Parcel Taxes Passed (2000 - 2029)\n",
    "    '''\n",
    "    # Open a simulated chrome browser \n",
    "    chrome_options = Options()\n",
    "    chrome_options.add_argument('--headless')  # Run in headless mode\n",
    "    chrome_options.add_argument('--disable-gpu') \n",
    "    driver = webdriver.Chrome(options=chrome_options)\n",
    "    url = f'https://www.ed-data.org/district/{county}/{district}'\n",
    "    driver.get(url)\n",
    "\n",
    "    # click a button to the Local Revenue Elections page\n",
    "    elections_button = driver.find_element(By.XPATH, '//*[@id=\"horizontalTab\"]/ul/li[4]').click()\n",
    "\n",
    "    try: \n",
    "        wait = WebDriverWait(driver, 10)\n",
    "        chart_content_element = wait.until(EC.presence_of_element_located((By.ID, 'chartContent-153')))\n",
    "        \n",
    "        # extract data using beautiful soup\n",
    "        html = driver.page_source\n",
    "        soup = BeautifulSoup(html, 'html.parser')\n",
    "        main_div = soup.find('div', {\"class\": 'chartContent',\"id\": 'chartContent-153'})\n",
    "        if main_div:\n",
    "            table = main_div.find('table', class_='table footable table-bordered master-footable')\n",
    "            if table:\n",
    "                header_row = table.find('thead').find('tr')\n",
    "            else:\n",
    "                print('Table data is not found.')\n",
    "                driver.quit()\n",
    "                return \n",
    "        else:\n",
    "            print('Table data is not found.')\n",
    "            driver.quit()\n",
    "            return \n",
    "\n",
    "\n",
    "        # Initialize variables to store the results\n",
    "        total_gobonds_and_parcel_taxes_attempted = 0\n",
    "        total_gobonds_and_parcel_taxes_passed = 0\n",
    "\n",
    "        # Extract column names with years greater than or equal to 2000\n",
    "        columns_and_positions = [(col.text.strip(), i) for i, col in enumerate(header_row.find_all('th')) if '-' in col.text.strip() and int(col.text.strip().split('-')[0]) >= 2000]\n",
    "\n",
    "        # Find the \"Total\" and \"Passed\" rows\n",
    "        total_row = table.find('tfoot').find('tr', class_='chart-data-total')\n",
    "        passed_row = table.find('tbody').find_all('tr', class_='chart-data-row')[1]\n",
    "        \n",
    "        # Loop through the columns\n",
    "        for col_name, col_index in columns_and_positions:\n",
    "            # Get the value in the \"Total\" row for the current column\n",
    "            total_value = total_row.find_all('td')[col_index].text.strip()\n",
    "            try:\n",
    "                total_value = int(total_value)\n",
    "            except ValueError:\n",
    "                total_value = 0\n",
    "            total_gobonds_and_parcel_taxes_attempted += total_value\n",
    "\n",
    "            # Get the value in the \"Passed\" row for the current column\n",
    "            spans = passed_row.find_all(lambda tag: tag.name == 'span' and tag.get('class') == ['view-toggle'])\n",
    "            passed_value = spans[col_index-1].text.strip()\n",
    "            try:\n",
    "                passed_value = int(passed_value)\n",
    "            except ValueError:\n",
    "                passed_value = 0\n",
    "            total_gobonds_and_parcel_taxes_passed += passed_value\n",
    "\n",
    "        # Print the results\n",
    "        print(\"Total GO Bonds and Parcel Taxes Attempted (2000-2029) for \"+ district + \": \", total_gobonds_and_parcel_taxes_attempted)\n",
    "        print(\"Total GO Bonds and Parcel Taxes Passed (2000-2029) for \"+ district + \": \", total_gobonds_and_parcel_taxes_passed)\n",
    "        driver.quit()\n",
    "        return total_gobonds_and_parcel_taxes_attempted, total_gobonds_and_parcel_taxes_passed\n",
    "        \n",
    "    except Exception as e:\n",
    "        driver.quit()\n",
    "        print(district + \": no table info found\")\n",
    "        return None\n",
    "    "
   ]
  },
  {
   "cell_type": "code",
   "execution_count": 17,
   "metadata": {},
   "outputs": [
    {
     "name": "stdout",
     "output_type": "stream",
     "text": [
      "Total GO Bonds and Parcel Taxes Attempted (2000-2029) for Pleasanton-Unified:  5\n",
      "Total GO Bonds and Parcel Taxes Passed (2000-2029) for Pleasanton-Unified:  2\n"
     ]
    }
   ],
   "source": [
    "pleasanton_unified_go_bonds = go_bonds_c12('Alameda', 'Pleasanton-Unified')"
   ]
  },
  {
   "cell_type": "code",
   "execution_count": 27,
   "metadata": {},
   "outputs": [
    {
     "name": "stdout",
     "output_type": "stream",
     "text": [
      "Mountain-House-Elementary: no table info found\n"
     ]
    }
   ],
   "source": [
    "mountain_house_elementary_go_bonds = go_bonds_c12('Alameda', 'Mountain-House-Elementary')\n"
   ]
  },
  {
   "cell_type": "code",
   "execution_count": 29,
   "metadata": {},
   "outputs": [
    {
     "name": "stdout",
     "output_type": "stream",
     "text": [
      "Total GO Bonds and Parcel Taxes Attempted (2000-2029) for Piedmont-City-Unified:  10\n",
      "Total GO Bonds and Parcel Taxes Passed (2000-2029) for Piedmont-City-Unified:  9\n"
     ]
    }
   ],
   "source": [
    "Piedmont_City_Unified_go_bonds = go_bonds_c12('Alameda', 'Piedmont-City-Unified')\n"
   ]
  },
  {
   "cell_type": "code",
   "execution_count": 24,
   "metadata": {},
   "outputs": [],
   "source": [
    "def automated_bonds_c12(county_name, districts_text):\n",
    "    '''\n",
    "    county_name eg. 'Alameda'\n",
    "    districts_text: copy the school district names from master county tracker\n",
    "    '''\n",
    "    districts_list = districts_text.split('\\n')\n",
    "    # Add a hyphen between each word in each district name\n",
    "    districts_with_hyphen = ['-'.join(district.split()) for district in districts_list]\n",
    "    bonds_dict = {}\n",
    "    for district in districts_with_hyphen:\n",
    "        bonds_data_combined = go_bonds_c12(county_name, district)\n",
    "        bonds_dict[district] = bonds_data_combined\n",
    "    return bonds_dict"
   ]
  },
  {
   "cell_type": "code",
   "execution_count": 30,
   "metadata": {},
   "outputs": [
    {
     "name": "stdout",
     "output_type": "stream",
     "text": [
      "Total GO Bonds and Parcel Taxes Attempted (2000-2029) for Hayward-Unified:  5\n",
      "Total GO Bonds and Parcel Taxes Passed (2000-2029) for Hayward-Unified:  5\n",
      "Total GO Bonds and Parcel Taxes Attempted (2000-2029) for Pleasanton-Unified:  5\n",
      "Total GO Bonds and Parcel Taxes Passed (2000-2029) for Pleasanton-Unified:  2\n",
      "Total GO Bonds and Parcel Taxes Attempted (2000-2029) for Sunol-Glen-Unified:  2\n",
      "Total GO Bonds and Parcel Taxes Passed (2000-2029) for Sunol-Glen-Unified:  1\n",
      "Total GO Bonds and Parcel Taxes Attempted (2000-2029) for Dublin-Unified:  7\n",
      "Total GO Bonds and Parcel Taxes Passed (2000-2029) for Dublin-Unified:  6\n",
      "Total GO Bonds and Parcel Taxes Attempted (2000-2029) for San-Lorenzo-Unified:  4\n",
      "Total GO Bonds and Parcel Taxes Passed (2000-2029) for San-Lorenzo-Unified:  4\n",
      "Total GO Bonds and Parcel Taxes Attempted (2000-2029) for San-Leandro-Unified:  8\n",
      "Total GO Bonds and Parcel Taxes Passed (2000-2029) for San-Leandro-Unified:  6\n",
      "Total GO Bonds and Parcel Taxes Attempted (2000-2029) for Piedmont-City-Unified:  10\n",
      "Total GO Bonds and Parcel Taxes Passed (2000-2029) for Piedmont-City-Unified:  9\n",
      "Mountain-House-Elementary: no table info found\n",
      "Total GO Bonds and Parcel Taxes Attempted (2000-2029) for Alameda-Unified:  9\n",
      "Total GO Bonds and Parcel Taxes Passed (2000-2029) for Alameda-Unified:  8\n",
      "Total GO Bonds and Parcel Taxes Attempted (2000-2029) for Albany-City-Unified:  9\n",
      "Total GO Bonds and Parcel Taxes Passed (2000-2029) for Albany-City-Unified:  9\n",
      "Total GO Bonds and Parcel Taxes Attempted (2000-2029) for Berkeley-Unified:  9\n",
      "Total GO Bonds and Parcel Taxes Passed (2000-2029) for Berkeley-Unified:  9\n",
      "Total GO Bonds and Parcel Taxes Attempted (2000-2029) for New-Haven-Unified:  4\n",
      "Total GO Bonds and Parcel Taxes Passed (2000-2029) for New-Haven-Unified:  2\n",
      "Total GO Bonds and Parcel Taxes Attempted (2000-2029) for Oakland-Unified:  11\n",
      "Total GO Bonds and Parcel Taxes Passed (2000-2029) for Oakland-Unified:  9\n",
      "Total GO Bonds and Parcel Taxes Attempted (2000-2029) for Castro-Valley-Unified:  4\n",
      "Total GO Bonds and Parcel Taxes Passed (2000-2029) for Castro-Valley-Unified:  3\n",
      "Total GO Bonds and Parcel Taxes Attempted (2000-2029) for Emery-Unified:  5\n",
      "Total GO Bonds and Parcel Taxes Passed (2000-2029) for Emery-Unified:  5\n",
      "Total GO Bonds and Parcel Taxes Attempted (2000-2029) for Livermore-Valley-Joint-Unified:  6\n",
      "Total GO Bonds and Parcel Taxes Passed (2000-2029) for Livermore-Valley-Joint-Unified:  5\n",
      "Total GO Bonds and Parcel Taxes Attempted (2000-2029) for Newark-Unified:  2\n",
      "Total GO Bonds and Parcel Taxes Passed (2000-2029) for Newark-Unified:  1\n",
      "Total GO Bonds and Parcel Taxes Attempted (2000-2029) for Fremont-Unified:  4\n",
      "Total GO Bonds and Parcel Taxes Passed (2000-2029) for Fremont-Unified:  3\n"
     ]
    }
   ],
   "source": [
    "alameda_text = \"\"\"Hayward Unified\n",
    "Pleasanton Unified\n",
    "Sunol Glen Unified\n",
    "Dublin Unified\n",
    "San Lorenzo Unified\n",
    "San Leandro Unified\n",
    "Piedmont City Unified\n",
    "Mountain House Elementary\n",
    "Alameda Unified\n",
    "Albany City Unified\n",
    "Berkeley Unified\n",
    "New Haven Unified\n",
    "Oakland Unified\n",
    "Castro Valley Unified\n",
    "Emery Unified\n",
    "Livermore Valley Joint Unified\n",
    "Newark Unified\n",
    "Fremont Unified\"\"\"\n",
    "\n",
    "alameda_bonds_dict = automated_bonds_c12('Alameda', alameda_text)"
   ]
  },
  {
   "cell_type": "markdown",
   "metadata": {},
   "source": [
    "### GO BONDS C3-4"
   ]
  },
  {
   "cell_type": "code",
   "execution_count": 37,
   "metadata": {},
   "outputs": [],
   "source": [
    "def go_bonds_c34(county, district):\n",
    "    '''\n",
    "    Function: Find the last two columns of the GO Bonds information\n",
    "\n",
    "    Input:\n",
    "    county eg. Alameda\n",
    "    district eg. Hayward-Unified\n",
    "\n",
    "    Output:\n",
    "    Most Recent Passed GO Bond Measure Year (2000-2029) \n",
    "    Total Amount of GO Bond Measure Funding ($) (2000 - 2029)\n",
    "    '''\n",
    "    chrome_options = Options()\n",
    "    chrome_options.add_argument('--headless')  # Run in headless mode\n",
    "    chrome_options.add_argument('--disable-gpu') \n",
    "    driver = webdriver.Chrome(options=chrome_options)\n",
    "    url = f'https://www.ed-data.org/district/{county}/{district}'\n",
    "    driver.get(url)\n",
    "    \n",
    "    # click a button to the Local Revenue Elections page\n",
    "    elections_button = driver.find_element(By.XPATH, '//*[@id=\"horizontalTab\"]/ul/li[4]').click()\n",
    "\n",
    "    # click a button to drop down to the detail page\n",
    "    detail_button = driver.find_element(By.XPATH, '//*[@id=\"election-data-tab\"]/h2[2]').click()\n",
    "\n",
    "    html = driver.page_source\n",
    "    soup = BeautifulSoup(html, 'html.parser')\n",
    "\n",
    "    \n",
    "    try: \n",
    "        wait = WebDriverWait(driver, 10)\n",
    "        chart_content_element = wait.until(EC.presence_of_element_located((By.ID, 'packeryContainer-6')))\n",
    "        # step 1: find all containers\n",
    "        detail_container = soup.find('div', {'id': 'packeryContainer-6'})\n",
    "        containers = soup.find_all('div', {'class': 'card-container packery-handle'})\n",
    "\n",
    "        # step 2: loop thru all containers to see if they are go bonds\n",
    "        go_bond_list = []\n",
    "        for container in containers:\n",
    "            title_div = container.find('div', {'class':'bptcontent'})\n",
    "            title_head = title_div.find('h1')\n",
    "            if title_head.text == 'GO Bond':\n",
    "                go_bond_list.append(container)\n",
    "\n",
    "        # step 3: loop thru the 'go_bond_list', select those that are 'passed' and have 'year' >= 2000\n",
    "        passed_bonds = {}\n",
    "        for bond in go_bond_list:\n",
    "            year_div = bond.find('div', {'class': 'vdatebg'})\n",
    "            h5_element = year_div.find('h5', {'class': 'card-date'})\n",
    "            span_element = h5_element.find('span')\n",
    "            year = int(span_element.get_text())\n",
    "            if year >= 2000:\n",
    "                pass_div = bond.find('div', {'class': 'bptpass'})\n",
    "                # h1_element = pass_div.find('h1')\n",
    "                # pass_state = h1_element.get_text()\n",
    "                if pass_div:\n",
    "                    bpt_content = bond.find('div', {'class': 'bptcontent'})\n",
    "                    h2_element = bpt_content.find('h2')\n",
    "                    funding = h2_element.get_text()\n",
    "                    cleaned_funding = int(funding.replace('$', '').replace(',', ''))\n",
    "                    passed_bonds[year] = cleaned_funding\n",
    "\n",
    "        # step 4: find the most recent year and total funding\n",
    "        if passed_bonds: \n",
    "            most_recent_year = max(passed_bonds.keys())\n",
    "            total_funding = sum(passed_bonds.values())\n",
    "        else: \n",
    "            most_recent_year = None\n",
    "            total_funding = None\n",
    "\n",
    "        # Print the results\n",
    "        print(\"Most Recent Passed GO Bond Measure Year (2000-2029) for \"+ district + \": \", most_recent_year)\n",
    "        print(\"Total Amount of GO Bond Measure Funding ($) (2000 - 2029) for \"+ district + \": \", total_funding)\n",
    "        driver.quit()\n",
    "        return most_recent_year, total_funding\n",
    "    except Exception as e:\n",
    "        driver.quit()\n",
    "        print(district + \": no table info found\")\n",
    "        return None"
   ]
  },
  {
   "cell_type": "code",
   "execution_count": 36,
   "metadata": {},
   "outputs": [
    {
     "name": "stdout",
     "output_type": "stream",
     "text": [
      "Most Recent Passed GO Bond Measure Year (2000-2029) for Piedmont-City-Unified:  2016\n",
      "Total Amount of GO Bond Measure Funding ($) (2000 - 2029) for Piedmont-City-Unified:  122000000\n"
     ]
    }
   ],
   "source": [
    "Piedmont_City_Unified_go_bonds = go_bonds_c34('Alameda', 'Piedmont-City-Unified')"
   ]
  },
  {
   "cell_type": "code",
   "execution_count": 35,
   "metadata": {},
   "outputs": [
    {
     "name": "stdout",
     "output_type": "stream",
     "text": [
      "Most Recent Passed GO Bond Measure Year (2000-2029) for Piedmont-City-Unified:  2016\n",
      "Total Amount of GO Bond Measure Funding ($) (2000 - 2029) for Piedmont-City-Unified:  122000000\n"
     ]
    }
   ],
   "source": [
    "county='Alameda'\n",
    "district='Piedmont-City-Unified'\n",
    "driver = webdriver.Chrome()\n",
    "url = f'https://www.ed-data.org/district/{county}/{district}'\n",
    "driver.get(url)\n",
    "\n",
    "# click a button to the Local Revenue Elections page\n",
    "elections_button = driver.find_element(By.XPATH, '//*[@id=\"horizontalTab\"]/ul/li[4]').click()\n",
    "\n",
    "# click a button to drop down to the detail page\n",
    "detail_button = driver.find_element(By.XPATH, '//*[@id=\"election-data-tab\"]/h2[2]').click()\n",
    "\n",
    "html = driver.page_source\n",
    "soup = BeautifulSoup(html, 'html.parser')\n",
    "\n",
    "\n",
    "try: \n",
    "    wait = WebDriverWait(driver, 10)\n",
    "    chart_content_element = wait.until(EC.presence_of_element_located((By.ID, 'packeryContainer-6')))\n",
    "    # step 1: find all containers\n",
    "    detail_container = soup.find('div', {'id': 'packeryContainer-6'})\n",
    "    containers = soup.find_all('div', {'class': 'card-container packery-handle'})\n",
    "\n",
    "    # step 2: loop thru all containers to see if they are go bonds\n",
    "    go_bond_list = []\n",
    "    for container in containers:\n",
    "        title_div = container.find('div', {'class':'bptcontent'})\n",
    "        title_head = title_div.find('h1')\n",
    "        if title_head.text == 'GO Bond':\n",
    "            go_bond_list.append(container)\n",
    "\n",
    "    # step 3: loop thru the 'go_bond_list', select those that are 'passed' and have 'year' >= 2000\n",
    "    passed_bonds = {}\n",
    "    for bond in go_bond_list:\n",
    "        year_div = bond.find('div', {'class': 'vdatebg'})\n",
    "        h5_element = year_div.find('h5', {'class': 'card-date'})\n",
    "        span_element = h5_element.find('span')\n",
    "        year = int(span_element.get_text())\n",
    "        if year >= 2000:\n",
    "            pass_div = bond.find('div', {'class': 'bptpass'})\n",
    "            # h1_element = pass_div.find('h1')\n",
    "            # pass_state = h1_element.get_text()\n",
    "            if pass_div:\n",
    "                bpt_content = bond.find('div', {'class': 'bptcontent'})\n",
    "                h2_element = bpt_content.find('h2')\n",
    "                funding = h2_element.get_text()\n",
    "                cleaned_funding = int(funding.replace('$', '').replace(',', ''))\n",
    "                passed_bonds[year] = cleaned_funding\n",
    "\n",
    "    # step 4: find the most recent year and total funding\n",
    "    if passed_bonds: \n",
    "        most_recent_year = max(passed_bonds.keys())\n",
    "        total_funding = sum(passed_bonds.values())\n",
    "    else: \n",
    "        most_recent_year = None\n",
    "        total_funding = None\n",
    "\n",
    "    # Print the results\n",
    "    print(\"Most Recent Passed GO Bond Measure Year (2000-2029) for \"+ district + \": \", most_recent_year)\n",
    "    print(\"Total Amount of GO Bond Measure Funding ($) (2000 - 2029) for \"+ district + \": \", total_funding)\n",
    "    # driver.quit()\n",
    "\n",
    "except Exception as e:\n",
    "    # driver.quit()\n",
    "    print(district + \": no table info found\")\n"
   ]
  },
  {
   "cell_type": "code",
   "execution_count": 38,
   "metadata": {},
   "outputs": [],
   "source": [
    "def automated_bonds_c34(county_name, districts_text):\n",
    "    '''\n",
    "    county_name eg. 'Alameda'\n",
    "    districts_text: copy the school district names from master county tracker\n",
    "    '''\n",
    "    districts_list = districts_text.split('\\n')\n",
    "    # Add a hyphen between each word in each district name\n",
    "    districts_with_hyphen = ['-'.join(district.split()) for district in districts_list]\n",
    "    bonds_dict = {}\n",
    "    for district in districts_with_hyphen:\n",
    "        bonds_data_comibned = go_bonds_c34(county_name, district)\n",
    "        bonds_dict[district] = bonds_data_comibned\n",
    "    return bonds_dict"
   ]
  },
  {
   "cell_type": "code",
   "execution_count": 39,
   "metadata": {},
   "outputs": [
    {
     "name": "stdout",
     "output_type": "stream",
     "text": [
      "Most Recent Passed GO Bond Measure Year (2000-2029) for Hayward-Unified:  2018\n",
      "Total Amount of GO Bond Measure Funding ($) (2000 - 2029) for Hayward-Unified:  815700000\n",
      "Most Recent Passed GO Bond Measure Year (2000-2029) for Pleasanton-Unified:  2022\n",
      "Total Amount of GO Bond Measure Funding ($) (2000 - 2029) for Pleasanton-Unified:  665000000\n",
      "Most Recent Passed GO Bond Measure Year (2000-2029) for Sunol-Glen-Unified:  2022\n",
      "Total Amount of GO Bond Measure Funding ($) (2000 - 2029) for Sunol-Glen-Unified:  10900000\n",
      "Most Recent Passed GO Bond Measure Year (2000-2029) for Dublin-Unified:  2020\n",
      "Total Amount of GO Bond Measure Funding ($) (2000 - 2029) for Dublin-Unified:  856000000\n",
      "Most Recent Passed GO Bond Measure Year (2000-2029) for San-Lorenzo-Unified:  2018\n",
      "Total Amount of GO Bond Measure Funding ($) (2000 - 2029) for San-Lorenzo-Unified:  145000000\n",
      "Most Recent Passed GO Bond Measure Year (2000-2029) for San-Leandro-Unified:  2020\n",
      "Total Amount of GO Bond Measure Funding ($) (2000 - 2029) for San-Leandro-Unified:  461100000\n",
      "Most Recent Passed GO Bond Measure Year (2000-2029) for Piedmont-City-Unified:  2016\n",
      "Total Amount of GO Bond Measure Funding ($) (2000 - 2029) for Piedmont-City-Unified:  122000000\n",
      "Mountain-House-Elementary: no table info found\n",
      "Most Recent Passed GO Bond Measure Year (2000-2029) for Alameda-Unified:  2022\n",
      "Total Amount of GO Bond Measure Funding ($) (2000 - 2029) for Alameda-Unified:  540500000\n",
      "Most Recent Passed GO Bond Measure Year (2000-2029) for Albany-City-Unified:  2016\n",
      "Total Amount of GO Bond Measure Funding ($) (2000 - 2029) for Albany-City-Unified:  48000000\n",
      "Most Recent Passed GO Bond Measure Year (2000-2029) for Berkeley-Unified:  None\n",
      "Total Amount of GO Bond Measure Funding ($) (2000 - 2029) for Berkeley-Unified:  None\n",
      "Most Recent Passed GO Bond Measure Year (2000-2029) for New-Haven-Unified:  2014\n",
      "Total Amount of GO Bond Measure Funding ($) (2000 - 2029) for New-Haven-Unified:  245000000\n",
      "Most Recent Passed GO Bond Measure Year (2000-2029) for Oakland-Unified:  2020\n",
      "Total Amount of GO Bond Measure Funding ($) (2000 - 2029) for Oakland-Unified:  1948000000\n",
      "Most Recent Passed GO Bond Measure Year (2000-2029) for Castro-Valley-Unified:  2016\n",
      "Total Amount of GO Bond Measure Funding ($) (2000 - 2029) for Castro-Valley-Unified:  183800000\n",
      "Most Recent Passed GO Bond Measure Year (2000-2029) for Emery-Unified:  2010\n",
      "Total Amount of GO Bond Measure Funding ($) (2000 - 2029) for Emery-Unified:  95000000\n",
      "Most Recent Passed GO Bond Measure Year (2000-2029) for Livermore-Valley-Joint-Unified:  2016\n",
      "Total Amount of GO Bond Measure Funding ($) (2000 - 2029) for Livermore-Valley-Joint-Unified:  245000000\n",
      "Most Recent Passed GO Bond Measure Year (2000-2029) for Newark-Unified:  None\n",
      "Total Amount of GO Bond Measure Funding ($) (2000 - 2029) for Newark-Unified:  None\n",
      "Most Recent Passed GO Bond Measure Year (2000-2029) for Fremont-Unified:  2014\n",
      "Total Amount of GO Bond Measure Funding ($) (2000 - 2029) for Fremont-Unified:  807200000\n"
     ]
    }
   ],
   "source": [
    "alameda_text = \"\"\"Hayward Unified\n",
    "Pleasanton Unified\n",
    "Sunol Glen Unified\n",
    "Dublin Unified\n",
    "San Lorenzo Unified\n",
    "San Leandro Unified\n",
    "Piedmont City Unified\n",
    "Mountain House Elementary\n",
    "Alameda Unified\n",
    "Albany City Unified\n",
    "Berkeley Unified\n",
    "New Haven Unified\n",
    "Oakland Unified\n",
    "Castro Valley Unified\n",
    "Emery Unified\n",
    "Livermore Valley Joint Unified\n",
    "Newark Unified\n",
    "Fremont Unified\"\"\"\n",
    "alameda_bonds_c34_dict = automated_bonds_c34('Alameda', alameda_text)"
   ]
  },
  {
   "cell_type": "code",
   "execution_count": null,
   "metadata": {},
   "outputs": [],
   "source": []
  },
  {
   "cell_type": "code",
   "execution_count": null,
   "metadata": {},
   "outputs": [],
   "source": []
  },
  {
   "cell_type": "markdown",
   "metadata": {},
   "source": [
    "### ADA"
   ]
  },
  {
   "cell_type": "markdown",
   "metadata": {},
   "source": []
  }
 ],
 "metadata": {
  "kernelspec": {
   "display_name": "base",
   "language": "python",
   "name": "python3"
  },
  "language_info": {
   "codemirror_mode": {
    "name": "ipython",
    "version": 3
   },
   "file_extension": ".py",
   "mimetype": "text/x-python",
   "name": "python",
   "nbconvert_exporter": "python",
   "pygments_lexer": "ipython3",
   "version": "3.9.12"
  }
 },
 "nbformat": 4,
 "nbformat_minor": 2
}
