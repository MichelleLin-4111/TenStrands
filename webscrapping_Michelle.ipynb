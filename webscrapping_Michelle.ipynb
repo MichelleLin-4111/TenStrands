{
 "cells": [
  {
   "cell_type": "code",
   "execution_count": 3,
   "metadata": {},
   "outputs": [],
   "source": [
    "# pip install selenium"
   ]
  },
  {
   "cell_type": "code",
   "execution_count": 1,
   "metadata": {},
   "outputs": [],
   "source": [
    "from selenium.webdriver.support.ui import WebDriverWait\n",
    "from selenium.webdriver.support import expected_conditions as EC\n",
    "from bs4 import BeautifulSoup\n",
    "from selenium import webdriver\n",
    "from selenium.webdriver.common.by import By\n",
    "import pandas as pd"
   ]
  },
  {
   "attachments": {},
   "cell_type": "markdown",
   "metadata": {},
   "source": [
    "# # of Certificated Teachers (2018-2019):"
   ]
  },
  {
   "cell_type": "code",
   "execution_count": 8,
   "metadata": {},
   "outputs": [],
   "source": [
    "driver = webdriver.Chrome()\n",
    "driver.get(\"https://www.ed-data.org/district/Alameda/Hayward-Unified\")"
   ]
  },
  {
   "cell_type": "code",
   "execution_count": 9,
   "metadata": {},
   "outputs": [],
   "source": [
    "\n",
    "# click a button to the Staff page\n",
    "staff_button = driver.find_element(By.XPATH, '//*[@id=\"horizontalTab\"]/ul/li[3]').click()\n",
    "\n",
    "# click a button to see the data table\n",
    "view_teachers_data_button = driver.find_element(By.XPATH, '//*[@id=\"datatable-165\"]/label').click()"
   ]
  },
  {
   "cell_type": "code",
   "execution_count": 4,
   "metadata": {},
   "outputs": [
    {
     "name": "stdout",
     "output_type": "stream",
     "text": [
      "# of Certificated Teachers(2018-19): 1,116\n"
     ]
    }
   ],
   "source": [
    "# extract data using beautiful soup\n",
    "html = driver.page_source\n",
    "soup = BeautifulSoup(html, 'html.parser')\n",
    "main_div = soup.find('div', {\"id\": 'chartContent-165'})\n",
    "main_table = main_div.find('div', {\"id\": 'charttab'})\n",
    "teacher_table = main_table.find('table', class_='table footable table-bordered master-footable')\n",
    "thead = teacher_table.find('thead')\n",
    "\n",
    "# Find all <th> elements within the <thead>\n",
    "th_elements = thead.find_all('th')\n",
    "\n",
    "# Initialize a variable to store the index of \"2018-19\" column\n",
    "target_column_index = None\n",
    "\n",
    "# Iterate through the <th> elements to find the index of the target column\n",
    "for index, th in enumerate(th_elements):\n",
    "    if th.get_text(strip=True) == \"2018-19\":\n",
    "        target_column_index = index\n",
    "        break\n",
    "\n",
    "# Check if the target column was found\n",
    "if target_column_index is not None:\n",
    "    # Find the <tbody> element\n",
    "    tbody = teacher_table.find('tbody')\n",
    "\n",
    "    # Find all <tr> elements within the <tbody>\n",
    "    tr_elements = tbody.find_all('tr')\n",
    "\n",
    "    # Initialize a variable to store the value in the target column\n",
    "    target_column_value = None\n",
    "\n",
    "    # Iterate through the <tr> elements to get the value in the target column\n",
    "    for tr in tr_elements:\n",
    "        td_elements = tr.find_all('td')\n",
    "        if len(td_elements) > target_column_index:\n",
    "            target_column_value = td_elements[target_column_index].get_text(strip=True)\n",
    "            break\n",
    "\n",
    "    # Print the value in the \"2018-19\" column\n",
    "    if target_column_value:\n",
    "        print(\"# of Certificated Teachers(2018-19):\", target_column_value)\n",
    "        driver.quit()\n",
    "    else:\n",
    "        print(\"Value not found in '2018-19' column\")\n",
    "        driver.quit()\n",
    "else:\n",
    "    print(\"'2018-19' column not found in the table.\")\n",
    "    driver.quit()\n",
    "\n"
   ]
  },
  {
   "cell_type": "code",
   "execution_count": null,
   "metadata": {},
   "outputs": [],
   "source": []
  },
  {
   "cell_type": "code",
   "execution_count": 6,
   "metadata": {},
   "outputs": [],
   "source": [
    "def find_num_of_teachers(county, district):\n",
    "    '''\n",
    "    county eg. Alameda\n",
    "    district eg. Hayward-Unified\n",
    "    '''\n",
    "    # Open a simulated chrome browser \n",
    "    driver = webdriver.Chrome()\n",
    "    url = f'https://www.ed-data.org/district/{county}/{district}'\n",
    "    driver.get(url)\n",
    "\n",
    "    # click a button to the Staff page\n",
    "    staff_button = driver.find_element(By.XPATH, '//*[@id=\"horizontalTab\"]/ul/li[3]').click()\n",
    "\n",
    "    # clicking a button to see the data table\n",
    "    # view_teachers_data_button = driver.find_element(By.XPATH, '//*[@id=\"datatable-165\"]/label').click()\n",
    "\n",
    "    # extract data using beautiful soup\n",
    "    html = driver.page_source\n",
    "    soup = BeautifulSoup(html, 'html.parser')\n",
    "    main_div = soup.find('div', {\"id\": 'chartContent-165'})\n",
    "    main_table = main_div.find('div', {\"id\": 'charttab'})\n",
    "    teacher_table = main_table.find('table', class_='table footable table-bordered master-footable')\n",
    "    thead = teacher_table.find('thead')\n",
    "\n",
    "    # Find all <th> elements within the <thead>\n",
    "    th_elements = thead.find_all('th')\n",
    "\n",
    "    # Initialize a variable to store the index of \"2018-19\" column\n",
    "    target_column_index = None\n",
    "\n",
    "    # Iterate through the <th> elements to find the index of the target column\n",
    "    for index, th in enumerate(th_elements):\n",
    "        if th.get_text(strip=True) == \"2018-19\":\n",
    "            target_column_index = index\n",
    "            break\n",
    "\n",
    "    # Check if the target column was found\n",
    "    if target_column_index is not None:\n",
    "        # Find the <tbody> element\n",
    "        tbody = teacher_table.find('tbody')\n",
    "\n",
    "        # Find all <tr> elements within the <tbody>\n",
    "        tr_elements = tbody.find_all('tr')\n",
    "\n",
    "        # Initialize a variable to store the value in the target column\n",
    "        target_column_value = None\n",
    "\n",
    "        # Iterate through the <tr> elements to get the value in the target column\n",
    "        for tr in tr_elements:\n",
    "            td_elements = tr.find_all('td')\n",
    "            if len(td_elements) > target_column_index:\n",
    "                target_column_value = td_elements[target_column_index].get_text(strip=True)\n",
    "                break\n",
    "\n",
    "        # Print the value in the \"2018-19\" column\n",
    "        if target_column_value:\n",
    "            print(\"# of Certificated Teachers(2018-19):\", target_column_value)\n",
    "            driver.quit()\n",
    "            return target_column_value\n",
    "        else:\n",
    "            print(\"Value not found in '2018-19' column\")\n",
    "            driver.quit()\n",
    "            return None\n",
    "    else:\n",
    "        print(\"'2018-19' column not found in the table.\")\n",
    "        driver.quit()\n",
    "        return None\n",
    "    "
   ]
  },
  {
   "cell_type": "markdown",
   "metadata": {},
   "source": []
  },
  {
   "cell_type": "code",
   "execution_count": 7,
   "metadata": {},
   "outputs": [
    {
     "name": "stdout",
     "output_type": "stream",
     "text": [
      "# of Certificated Teachers(2018-19): 720\n"
     ]
    }
   ],
   "source": [
    "alameda_pleasanton_unified = find_num_of_teachers('Alameda', 'Pleasanton-Unified')"
   ]
  },
  {
   "cell_type": "code",
   "execution_count": 71,
   "metadata": {},
   "outputs": [
    {
     "name": "stdout",
     "output_type": "stream",
     "text": [
      "<selenium.webdriver.remote.webelement.WebElement (session=\"ff29a7c73e30323f6947f81fa25806dc\", element=\"388B29AFAEBDBCDEF53082372F2B6AE4_element_99\")>\n"
     ]
    }
   ],
   "source": [
    "\n",
    "county = 'Alameda'\n",
    "district = 'Hayward-Unified'\n",
    "# Open a simulated chrome browser \n",
    "driver = webdriver.Chrome()\n",
    "url = f'https://www.ed-data.org/district/{county}/{district}'\n",
    "driver.get(url)\n",
    "\n",
    "# click a button to the Staff page\n",
    "staff_button = driver.find_element(By.XPATH, '//*[@id=\"horizontalTab\"]/ul/li[3]').click()\n",
    "\n",
    "# clicking a button to see the data table\n",
    "# view_teachers_data_button = driver.find_element(By.XPATH, '//*[@id=\"datatable-165\"]/label').click()\n",
    "\n",
    "# extract data using beautiful soup\n",
    "# html = driver.page_source\n",
    "# soup = BeautifulSoup(html, 'html.parser')\n",
    "\n",
    "try:\n",
    "    chart = driver.find_element(By.ID, \"chartContent-165\")\n",
    "    div0 = chart.find_elements(By.TAG_NAME, \"div\")[0]\n",
    "    div1 = div0.find_element(By.ID, \"charttab\") #charttab\n",
    "    div2 = div1.find_elements(By.TAG_NAME, \"div\")[0] #chartdatamenu\n",
    "    div3 = div2.find_elements(By.TAG_NAME, \"div\")[0] #table-div\n",
    "    table = div3.find_elements(By.TAG_NAME, \"table\")[0]\n",
    "    tbody = table.find_elements(By.TAG_NAME, \"tbody\")[0]\n",
    "    thead = table.find_elements(By.TAG_NAME, \"thead\")[0]\n",
    "    # tr = tbody.find_elements(By.TAG_NAME, \"tr\")[0]\n",
    "    # td = tr.find_elements(By.TAG_NAME, \"td\")[4]\n",
    "    # span = td.find_elements(By.TAG_NAME, \"span\")[1]\n",
    "    print(table)\n",
    "    \n",
    "except Exception as e:\n",
    "    print('no info found')\n",
    "\n",
    "# main_div = soup.find('div', {\"id\": 'chartContent-165'})\n",
    "# main_table = main_div.find('div', {\"id\": 'charttab'})\n",
    "# teacher_table = main_table.find('table', class_='table footable table-bordered master-footable')\n",
    "# thead = teacher_table.find('thead')\n",
    "\n",
    "# # Find all <th> elements within the <thead>\n",
    "# th_elements = thead.find_all('th')\n",
    "\n",
    "# # Initialize a variable to store the index of \"2018-19\" column\n",
    "# target_column_index = None\n",
    "\n",
    "# # Iterate through the <th> elements to find the index of the target column\n",
    "# for index, th in enumerate(th_elements):\n",
    "#     if th.get_text(strip=True) == \"2018-19\":\n",
    "#         target_column_index = index\n",
    "#         break\n",
    "\n",
    "# # Check if the target column was found\n",
    "# if target_column_index is not None:\n",
    "#     # Find the <tbody> element\n",
    "#     tbody = teacher_table.find('tbody')\n",
    "\n",
    "#     # Find all <tr> elements within the <tbody>\n",
    "#     tr_elements = tbody.find_all('tr')\n",
    "\n",
    "#     # Initialize a variable to store the value in the target column\n",
    "#     target_column_value = None\n",
    "\n",
    "#     # Iterate through the <tr> elements to get the value in the target column\n",
    "#     for tr in tr_elements:\n",
    "#         td_elements = tr.find_all('td')\n",
    "#         if len(td_elements) > target_column_index:\n",
    "#             target_column_value = td_elements[target_column_index].get_text(strip=True)\n",
    "#             break\n",
    "\n",
    "#     # Print the value in the \"2018-19\" column\n",
    "#     if target_column_value:\n",
    "#         print(\"# of Certificated Teachers(2018-19):\", target_column_value)\n",
    "#         driver.quit()\n",
    "#         return target_column_value\n",
    "#     else:\n",
    "#         print(\"Value not found in '2018-19' column\")\n",
    "#         driver.quit()\n",
    "#         return None\n",
    "# else:\n",
    "#     print(\"'2018-19' column not found in the table.\")\n",
    "#     driver.quit()\n",
    "#     return None"
   ]
  },
  {
   "cell_type": "code",
   "execution_count": 80,
   "metadata": {},
   "outputs": [
    {
     "name": "stdout",
     "output_type": "stream",
     "text": [
      "# of Certificated Teachers(2018-19): 1,116 \n"
     ]
    }
   ],
   "source": [
    "# Find all <th> elements within the <thead>\n",
    "th_elements = thead.find_elements(By.TAG_NAME, 'th')\n",
    "\n",
    "# Initialize a variable to store the index of \"2018-19\" column\n",
    "target_column_index = None\n",
    "\n",
    "# Iterate through the <th> elements to find the index of the target column\n",
    "for index, th in enumerate(th_elements):\n",
    "    year_html = th.get_attribute('innerHTML')\n",
    "    year = year_html.strip().replace('\\n', '')\n",
    "    if year == \"2018-19\":\n",
    "        target_column_index = index\n",
    "        break\n",
    "\n",
    "# Check if the target column was found\n",
    "if target_column_index is not None:\n",
    "    # Find the <tbody> element\n",
    "    # tbody = teacher_table.find('tbody')\n",
    "\n",
    "    # Find all <td> elements within the <tbody>\n",
    "    tr = tbody.find_elements(By.TAG_NAME, 'tr')[0]\n",
    "    td_elements = tr.find_elements(By.TAG_NAME, \"td\")\n",
    "\n",
    "    # Initialize a variable to store the value in the target column\n",
    "    target_column_value = None\n",
    "\n",
    "    span = td_elements[target_column_index].find_elements(By.TAG_NAME, \"span\")[0] \n",
    "    target_column_value = span.get_attribute(\"innerHTML\")\n",
    "    # Iterate through the <tr> elements to get the value in the target column\n",
    "    # for td in td_elements:\n",
    "    #     # td_elements = tr.find_elements(By.TAGNAME, 'td')\n",
    "    #     # if len(td_elements) > target_column_index:\n",
    "    #         target_column_value = td_elements[target_column_index].get_attribute('innerHTML')\n",
    "    #         break\n",
    "\n",
    "    # Print the value in the \"2018-19\" column\n",
    "    if target_column_value:\n",
    "        print(\"# of Certificated Teachers(2018-19):\", target_column_value)\n",
    "        # driver.quit()\n",
    "        # return target_column_value\n",
    "    else:\n",
    "        print(\"Value not found in '2018-19' column\")\n",
    "        # driver.quit()\n",
    "        # return None\n",
    "else:\n",
    "    print(\"'2018-19' column not found in the table.\")\n",
    "    # driver.quit()\n",
    "    # return None"
   ]
  },
  {
   "cell_type": "code",
   "execution_count": 79,
   "metadata": {},
   "outputs": [
    {
     "data": {
      "text/plain": [
       "'<span class=\"view-toggle \">1,116 </span>'"
      ]
     },
     "execution_count": 79,
     "metadata": {},
     "output_type": "execute_result"
    }
   ],
   "source": [
    "td_elements[target_column_index].find_elements(By.TAG_NAME, \"span\")[0].get_attribute('outerHTML')"
   ]
  },
  {
   "cell_type": "code",
   "execution_count": null,
   "metadata": {},
   "outputs": [],
   "source": []
  },
  {
   "cell_type": "code",
   "execution_count": null,
   "metadata": {},
   "outputs": [],
   "source": []
  },
  {
   "cell_type": "code",
   "execution_count": null,
   "metadata": {},
   "outputs": [],
   "source": []
  },
  {
   "cell_type": "code",
   "execution_count": null,
   "metadata": {},
   "outputs": [],
   "source": []
  },
  {
   "cell_type": "code",
   "execution_count": null,
   "metadata": {},
   "outputs": [],
   "source": []
  },
  {
   "cell_type": "markdown",
   "metadata": {},
   "source": [
    "def find_#_of_teachers()"
   ]
  },
  {
   "cell_type": "code",
   "execution_count": 11,
   "metadata": {},
   "outputs": [
    {
     "name": "stdout",
     "output_type": "stream",
     "text": [
      "no info found\n"
     ]
    }
   ],
   "source": [
    "alameda_pleasanton_unified = find_num_of_teachers_test('Alameda', 'Pleasanton-Unified')"
   ]
  },
  {
   "cell_type": "code",
   "execution_count": 69,
   "metadata": {},
   "outputs": [
    {
     "name": "stdout",
     "output_type": "stream",
     "text": [
      "# of Certificated Teachers(2018-19): 1,116\n",
      "# of Certificated Teachers(2018-19): 720\n",
      "# of Certificated Teachers(2018-19): 15\n"
     ]
    },
    {
     "data": {
      "text/plain": [
       "{'Hayward-Unified': '1,116',\n",
       " 'Pleasanton-Unified': '720',\n",
       " 'Sunol-Glen-Unified': '15'}"
      ]
     },
     "execution_count": 69,
     "metadata": {},
     "output_type": "execute_result"
    }
   ],
   "source": [
    "county = 'Alameda'\n",
    "districts = ['Hayward-Unified', 'Pleasanton-Unified', 'Sunol-Glen-Unified']\n",
    "teachers_dict = {}\n",
    "for district in districts:\n",
    "    teacher_data = find_num_of_teachers(county, district)\n",
    "    teachers_dict[district] = teacher_data\n",
    "teachers_dict"
   ]
  },
  {
   "cell_type": "code",
   "execution_count": 73,
   "metadata": {},
   "outputs": [
    {
     "data": {
      "text/html": [
       "<div>\n",
       "<style scoped>\n",
       "    .dataframe tbody tr th:only-of-type {\n",
       "        vertical-align: middle;\n",
       "    }\n",
       "\n",
       "    .dataframe tbody tr th {\n",
       "        vertical-align: top;\n",
       "    }\n",
       "\n",
       "    .dataframe thead th {\n",
       "        text-align: right;\n",
       "    }\n",
       "</style>\n",
       "<table border=\"1\" class=\"dataframe\">\n",
       "  <thead>\n",
       "    <tr style=\"text-align: right;\">\n",
       "      <th></th>\n",
       "      <th># of Certificated Teachers(2018-2019)</th>\n",
       "    </tr>\n",
       "  </thead>\n",
       "  <tbody>\n",
       "    <tr>\n",
       "      <th>Hayward-Unified</th>\n",
       "      <td>1,116</td>\n",
       "    </tr>\n",
       "    <tr>\n",
       "      <th>Pleasanton-Unified</th>\n",
       "      <td>720</td>\n",
       "    </tr>\n",
       "    <tr>\n",
       "      <th>Sunol-Glen-Unified</th>\n",
       "      <td>15</td>\n",
       "    </tr>\n",
       "  </tbody>\n",
       "</table>\n",
       "</div>"
      ],
      "text/plain": [
       "                   # of Certificated Teachers(2018-2019)\n",
       "Hayward-Unified                                    1,116\n",
       "Pleasanton-Unified                                   720\n",
       "Sunol-Glen-Unified                                    15"
      ]
     },
     "execution_count": 73,
     "metadata": {},
     "output_type": "execute_result"
    }
   ],
   "source": [
    "df = pd.DataFrame.from_dict(teachers_dict, orient='index', columns=['# of Certificated Teachers(2018-2019)'])\n",
    "df"
   ]
  },
  {
   "cell_type": "code",
   "execution_count": 75,
   "metadata": {},
   "outputs": [
    {
     "data": {
      "text/plain": [
       "['1,116', '720', '15']"
      ]
     },
     "execution_count": 75,
     "metadata": {},
     "output_type": "execute_result"
    }
   ],
   "source": [
    "list(df['# of Certificated Teachers(2018-2019)'])"
   ]
  },
  {
   "cell_type": "markdown",
   "metadata": {},
   "source": []
  },
  {
   "cell_type": "code",
   "execution_count": 3,
   "metadata": {},
   "outputs": [],
   "source": [
    "def automated_teachers(county_name, districts_text):\n",
    "    '''\n",
    "    county_name eg. 'Alameda'\n",
    "    districts_text: copy the school district names from master county tracker\n",
    "    '''\n",
    "    districts_list = districts_text.split('\\n')\n",
    "    # Add a hyphen between each word in each district name\n",
    "    districts_with_hyphen = ['-'.join(district.split()) for district in districts_list]\n",
    "    teachers_dict = {}\n",
    "    for district in districts_with_hyphen:\n",
    "        teacher_data = find_num_of_teachers(county_name, district)\n",
    "        teachers_dict[district] = teacher_data\n",
    "    return teachers_dict"
   ]
  },
  {
   "cell_type": "code",
   "execution_count": 8,
   "metadata": {},
   "outputs": [
    {
     "name": "stdout",
     "output_type": "stream",
     "text": [
      "# of Certificated Teachers(2018-19): 0\n"
     ]
    },
    {
     "ename": "ElementNotInteractableException",
     "evalue": "Message: element not interactable\n  (Session info: chrome=119.0.6045.105)\nStacktrace:\n0   chromedriver                        0x00000001012aa004 chromedriver + 4169732\n1   chromedriver                        0x00000001012a1ff8 chromedriver + 4136952\n2   chromedriver                        0x0000000100ef7348 chromedriver + 291656\n3   chromedriver                        0x0000000100f3def0 chromedriver + 581360\n4   chromedriver                        0x0000000100f324f8 chromedriver + 533752\n5   chromedriver                        0x0000000100f31db4 chromedriver + 531892\n6   chromedriver                        0x0000000100f77818 chromedriver + 817176\n7   chromedriver                        0x0000000100f305e8 chromedriver + 525800\n8   chromedriver                        0x0000000100f314b8 chromedriver + 529592\n9   chromedriver                        0x0000000101270334 chromedriver + 3932980\n10  chromedriver                        0x0000000101274970 chromedriver + 3950960\n11  chromedriver                        0x0000000101258774 chromedriver + 3835764\n12  chromedriver                        0x0000000101275478 chromedriver + 3953784\n13  chromedriver                        0x000000010124aab4 chromedriver + 3779252\n14  chromedriver                        0x0000000101291914 chromedriver + 4069652\n15  chromedriver                        0x0000000101291a90 chromedriver + 4070032\n16  chromedriver                        0x00000001012a1c70 chromedriver + 4136048\n17  libsystem_pthread.dylib             0x00000001c1cfc26c _pthread_start + 148\n18  libsystem_pthread.dylib             0x00000001c1cf708c thread_start + 8\n",
     "output_type": "error",
     "traceback": [
      "\u001b[0;31m---------------------------------------------------------------------------\u001b[0m",
      "\u001b[0;31mElementNotInteractableException\u001b[0m           Traceback (most recent call last)",
      "\u001b[1;32m/Users/michellelin/Desktop/Ten Strands/webscrapping_Michelle.ipynb Cell 17\u001b[0m line \u001b[0;36m<cell line: 12>\u001b[0;34m()\u001b[0m\n\u001b[1;32m      <a href='vscode-notebook-cell:/Users/michellelin/Desktop/Ten%20Strands/webscrapping_Michelle.ipynb#Y106sZmlsZQ%3D%3D?line=0'>1</a>\u001b[0m aromas_text \u001b[39m=\u001b[39m \u001b[39m\"\"\"\u001b[39m\u001b[39mCienega Union Elementary\u001b[39m\n\u001b[1;32m      <a href='vscode-notebook-cell:/Users/michellelin/Desktop/Ten%20Strands/webscrapping_Michelle.ipynb#Y106sZmlsZQ%3D%3D?line=1'>2</a>\u001b[0m \u001b[39mHollister\u001b[39m\n\u001b[1;32m      <a href='vscode-notebook-cell:/Users/michellelin/Desktop/Ten%20Strands/webscrapping_Michelle.ipynb#Y106sZmlsZQ%3D%3D?line=2'>3</a>\u001b[0m \u001b[39mJefferson Elementary\u001b[39m\n\u001b[0;32m   (...)\u001b[0m\n\u001b[1;32m     <a href='vscode-notebook-cell:/Users/michellelin/Desktop/Ten%20Strands/webscrapping_Michelle.ipynb#Y106sZmlsZQ%3D%3D?line=9'>10</a>\u001b[0m \u001b[39mTres Pinos Union Elementary\u001b[39m\n\u001b[1;32m     <a href='vscode-notebook-cell:/Users/michellelin/Desktop/Ten%20Strands/webscrapping_Michelle.ipynb#Y106sZmlsZQ%3D%3D?line=10'>11</a>\u001b[0m \u001b[39mWillow Grove Union Elementary\u001b[39m\u001b[39m\"\"\"\u001b[39m\n\u001b[0;32m---> <a href='vscode-notebook-cell:/Users/michellelin/Desktop/Ten%20Strands/webscrapping_Michelle.ipynb#Y106sZmlsZQ%3D%3D?line=11'>12</a>\u001b[0m san_benito_teacher_dict \u001b[39m=\u001b[39m automated_teachers(\u001b[39m'\u001b[39;49m\u001b[39mSan-Benito\u001b[39;49m\u001b[39m'\u001b[39;49m, aromas_text)\n",
      "\u001b[1;32m/Users/michellelin/Desktop/Ten Strands/webscrapping_Michelle.ipynb Cell 17\u001b[0m line \u001b[0;36mautomated_teachers\u001b[0;34m(county_name, districts_text)\u001b[0m\n\u001b[1;32m      <a href='vscode-notebook-cell:/Users/michellelin/Desktop/Ten%20Strands/webscrapping_Michelle.ipynb#Y106sZmlsZQ%3D%3D?line=8'>9</a>\u001b[0m teachers_dict \u001b[39m=\u001b[39m {}\n\u001b[1;32m     <a href='vscode-notebook-cell:/Users/michellelin/Desktop/Ten%20Strands/webscrapping_Michelle.ipynb#Y106sZmlsZQ%3D%3D?line=9'>10</a>\u001b[0m \u001b[39mfor\u001b[39;00m district \u001b[39min\u001b[39;00m districts_with_hyphen:\n\u001b[0;32m---> <a href='vscode-notebook-cell:/Users/michellelin/Desktop/Ten%20Strands/webscrapping_Michelle.ipynb#Y106sZmlsZQ%3D%3D?line=10'>11</a>\u001b[0m     teacher_data \u001b[39m=\u001b[39m find_num_of_teachers(county_name, district)\n\u001b[1;32m     <a href='vscode-notebook-cell:/Users/michellelin/Desktop/Ten%20Strands/webscrapping_Michelle.ipynb#Y106sZmlsZQ%3D%3D?line=11'>12</a>\u001b[0m     teachers_dict[district] \u001b[39m=\u001b[39m teacher_data\n\u001b[1;32m     <a href='vscode-notebook-cell:/Users/michellelin/Desktop/Ten%20Strands/webscrapping_Michelle.ipynb#Y106sZmlsZQ%3D%3D?line=12'>13</a>\u001b[0m \u001b[39mreturn\u001b[39;00m teachers_dict\n",
      "\u001b[1;32m/Users/michellelin/Desktop/Ten Strands/webscrapping_Michelle.ipynb Cell 17\u001b[0m line \u001b[0;36mfind_num_of_teachers\u001b[0;34m(county, district)\u001b[0m\n\u001b[1;32m     <a href='vscode-notebook-cell:/Users/michellelin/Desktop/Ten%20Strands/webscrapping_Michelle.ipynb#Y106sZmlsZQ%3D%3D?line=11'>12</a>\u001b[0m staff_button \u001b[39m=\u001b[39m driver\u001b[39m.\u001b[39mfind_element(By\u001b[39m.\u001b[39mXPATH, \u001b[39m'\u001b[39m\u001b[39m//*[@id=\u001b[39m\u001b[39m\"\u001b[39m\u001b[39mhorizontalTab\u001b[39m\u001b[39m\"\u001b[39m\u001b[39m]/ul/li[3]\u001b[39m\u001b[39m'\u001b[39m)\u001b[39m.\u001b[39mclick()\n\u001b[1;32m     <a href='vscode-notebook-cell:/Users/michellelin/Desktop/Ten%20Strands/webscrapping_Michelle.ipynb#Y106sZmlsZQ%3D%3D?line=13'>14</a>\u001b[0m \u001b[39m# clicking a button to see the data table\u001b[39;00m\n\u001b[0;32m---> <a href='vscode-notebook-cell:/Users/michellelin/Desktop/Ten%20Strands/webscrapping_Michelle.ipynb#Y106sZmlsZQ%3D%3D?line=14'>15</a>\u001b[0m view_teachers_data_button \u001b[39m=\u001b[39m driver\u001b[39m.\u001b[39;49mfind_element(By\u001b[39m.\u001b[39;49mXPATH, \u001b[39m'\u001b[39;49m\u001b[39m//*[@id=\u001b[39;49m\u001b[39m\"\u001b[39;49m\u001b[39mdatatable-165\u001b[39;49m\u001b[39m\"\u001b[39;49m\u001b[39m]/label\u001b[39;49m\u001b[39m'\u001b[39;49m)\u001b[39m.\u001b[39;49mclick()\n\u001b[1;32m     <a href='vscode-notebook-cell:/Users/michellelin/Desktop/Ten%20Strands/webscrapping_Michelle.ipynb#Y106sZmlsZQ%3D%3D?line=16'>17</a>\u001b[0m \u001b[39m# extract data using beautiful soup\u001b[39;00m\n\u001b[1;32m     <a href='vscode-notebook-cell:/Users/michellelin/Desktop/Ten%20Strands/webscrapping_Michelle.ipynb#Y106sZmlsZQ%3D%3D?line=17'>18</a>\u001b[0m html \u001b[39m=\u001b[39m driver\u001b[39m.\u001b[39mpage_source\n",
      "File \u001b[0;32m~/opt/anaconda3/lib/python3.9/site-packages/selenium/webdriver/remote/webelement.py:93\u001b[0m, in \u001b[0;36mWebElement.click\u001b[0;34m(self)\u001b[0m\n\u001b[1;32m     91\u001b[0m \u001b[39mdef\u001b[39;00m \u001b[39mclick\u001b[39m(\u001b[39mself\u001b[39m) \u001b[39m-\u001b[39m\u001b[39m>\u001b[39m \u001b[39mNone\u001b[39;00m:\n\u001b[1;32m     92\u001b[0m     \u001b[39m\"\"\"Clicks the element.\"\"\"\u001b[39;00m\n\u001b[0;32m---> 93\u001b[0m     \u001b[39mself\u001b[39;49m\u001b[39m.\u001b[39;49m_execute(Command\u001b[39m.\u001b[39;49mCLICK_ELEMENT)\n",
      "File \u001b[0;32m~/opt/anaconda3/lib/python3.9/site-packages/selenium/webdriver/remote/webelement.py:394\u001b[0m, in \u001b[0;36mWebElement._execute\u001b[0;34m(self, command, params)\u001b[0m\n\u001b[1;32m    392\u001b[0m     params \u001b[39m=\u001b[39m {}\n\u001b[1;32m    393\u001b[0m params[\u001b[39m\"\u001b[39m\u001b[39mid\u001b[39m\u001b[39m\"\u001b[39m] \u001b[39m=\u001b[39m \u001b[39mself\u001b[39m\u001b[39m.\u001b[39m_id\n\u001b[0;32m--> 394\u001b[0m \u001b[39mreturn\u001b[39;00m \u001b[39mself\u001b[39;49m\u001b[39m.\u001b[39;49m_parent\u001b[39m.\u001b[39;49mexecute(command, params)\n",
      "File \u001b[0;32m~/opt/anaconda3/lib/python3.9/site-packages/selenium/webdriver/remote/webdriver.py:344\u001b[0m, in \u001b[0;36mWebDriver.execute\u001b[0;34m(self, driver_command, params)\u001b[0m\n\u001b[1;32m    342\u001b[0m response \u001b[39m=\u001b[39m \u001b[39mself\u001b[39m\u001b[39m.\u001b[39mcommand_executor\u001b[39m.\u001b[39mexecute(driver_command, params)\n\u001b[1;32m    343\u001b[0m \u001b[39mif\u001b[39;00m response:\n\u001b[0;32m--> 344\u001b[0m     \u001b[39mself\u001b[39;49m\u001b[39m.\u001b[39;49merror_handler\u001b[39m.\u001b[39;49mcheck_response(response)\n\u001b[1;32m    345\u001b[0m     response[\u001b[39m\"\u001b[39m\u001b[39mvalue\u001b[39m\u001b[39m\"\u001b[39m] \u001b[39m=\u001b[39m \u001b[39mself\u001b[39m\u001b[39m.\u001b[39m_unwrap_value(response\u001b[39m.\u001b[39mget(\u001b[39m\"\u001b[39m\u001b[39mvalue\u001b[39m\u001b[39m\"\u001b[39m, \u001b[39mNone\u001b[39;00m))\n\u001b[1;32m    346\u001b[0m     \u001b[39mreturn\u001b[39;00m response\n",
      "File \u001b[0;32m~/opt/anaconda3/lib/python3.9/site-packages/selenium/webdriver/remote/errorhandler.py:229\u001b[0m, in \u001b[0;36mErrorHandler.check_response\u001b[0;34m(self, response)\u001b[0m\n\u001b[1;32m    227\u001b[0m         alert_text \u001b[39m=\u001b[39m value[\u001b[39m\"\u001b[39m\u001b[39malert\u001b[39m\u001b[39m\"\u001b[39m]\u001b[39m.\u001b[39mget(\u001b[39m\"\u001b[39m\u001b[39mtext\u001b[39m\u001b[39m\"\u001b[39m)\n\u001b[1;32m    228\u001b[0m     \u001b[39mraise\u001b[39;00m exception_class(message, screen, stacktrace, alert_text)  \u001b[39m# type: ignore[call-arg]  # mypy is not smart enough here\u001b[39;00m\n\u001b[0;32m--> 229\u001b[0m \u001b[39mraise\u001b[39;00m exception_class(message, screen, stacktrace)\n",
      "\u001b[0;31mElementNotInteractableException\u001b[0m: Message: element not interactable\n  (Session info: chrome=119.0.6045.105)\nStacktrace:\n0   chromedriver                        0x00000001012aa004 chromedriver + 4169732\n1   chromedriver                        0x00000001012a1ff8 chromedriver + 4136952\n2   chromedriver                        0x0000000100ef7348 chromedriver + 291656\n3   chromedriver                        0x0000000100f3def0 chromedriver + 581360\n4   chromedriver                        0x0000000100f324f8 chromedriver + 533752\n5   chromedriver                        0x0000000100f31db4 chromedriver + 531892\n6   chromedriver                        0x0000000100f77818 chromedriver + 817176\n7   chromedriver                        0x0000000100f305e8 chromedriver + 525800\n8   chromedriver                        0x0000000100f314b8 chromedriver + 529592\n9   chromedriver                        0x0000000101270334 chromedriver + 3932980\n10  chromedriver                        0x0000000101274970 chromedriver + 3950960\n11  chromedriver                        0x0000000101258774 chromedriver + 3835764\n12  chromedriver                        0x0000000101275478 chromedriver + 3953784\n13  chromedriver                        0x000000010124aab4 chromedriver + 3779252\n14  chromedriver                        0x0000000101291914 chromedriver + 4069652\n15  chromedriver                        0x0000000101291a90 chromedriver + 4070032\n16  chromedriver                        0x00000001012a1c70 chromedriver + 4136048\n17  libsystem_pthread.dylib             0x00000001c1cfc26c _pthread_start + 148\n18  libsystem_pthread.dylib             0x00000001c1cf708c thread_start + 8\n"
     ]
    }
   ],
   "source": [
    "aromas_text = \"\"\"Cienega Union Elementary\n",
    "Hollister\n",
    "Jefferson Elementary\n",
    "New Idria Elementary\n",
    "North County Joint Union Elementary\n",
    "Olympia Elementary\n",
    "Panoche Elementary\n",
    "San Benito High School District\n",
    "Southside Elementary\n",
    "Tres Pinos Union Elementary\n",
    "Willow Grove Union Elementary\"\"\"\n",
    "san_benito_teacher_dict = automated_teachers('San-Benito', aromas_text)"
   ]
  },
  {
   "attachments": {},
   "cell_type": "markdown",
   "metadata": {},
   "source": [
    "## Test for automation: Alameda County"
   ]
  },
  {
   "cell_type": "code",
   "execution_count": 85,
   "metadata": {},
   "outputs": [
    {
     "name": "stdout",
     "output_type": "stream",
     "text": [
      "# of Certificated Teachers(2018-19): 1,116\n",
      "# of Certificated Teachers(2018-19): 720\n",
      "# of Certificated Teachers(2018-19): 15\n",
      "# of Certificated Teachers(2018-19): 574\n",
      "# of Certificated Teachers(2018-19): 568\n",
      "# of Certificated Teachers(2018-19): 432\n",
      "# of Certificated Teachers(2018-19): 181\n",
      "# of Certificated Teachers(2018-19): 1\n",
      "# of Certificated Teachers(2018-19): 593\n",
      "# of Certificated Teachers(2018-19): 202\n",
      "# of Certificated Teachers(2018-19): 673\n",
      "# of Certificated Teachers(2018-19): 529\n",
      "# of Certificated Teachers(2018-19): 3,116\n",
      "# of Certificated Teachers(2018-19): 450\n",
      "# of Certificated Teachers(2018-19): 45\n",
      "# of Certificated Teachers(2018-19): 691\n",
      "# of Certificated Teachers(2018-19): 242\n",
      "# of Certificated Teachers(2018-19): 1,828\n"
     ]
    }
   ],
   "source": [
    "alameda_text = \"\"\"Hayward Unified\n",
    "Pleasanton Unified\n",
    "Sunol Glen Unified\n",
    "Dublin Unified\n",
    "San Lorenzo Unified\n",
    "San Leandro Unified\n",
    "Piedmont City Unified\n",
    "Mountain House Elementary\n",
    "Alameda Unified\n",
    "Albany City Unified\n",
    "Berkeley Unified\n",
    "New Haven Unified\n",
    "Oakland Unified\n",
    "Castro Valley Unified\n",
    "Emery Unified\n",
    "Livermore Valley Joint Unified\n",
    "Newark Unified\n",
    "Fremont Unified\"\"\"\n",
    "\n",
    "alameda_teacher_dict = automated_teachers('Alameda', alameda_text)\n"
   ]
  },
  {
   "cell_type": "code",
   "execution_count": 86,
   "metadata": {},
   "outputs": [
    {
     "data": {
      "text/html": [
       "<div>\n",
       "<style scoped>\n",
       "    .dataframe tbody tr th:only-of-type {\n",
       "        vertical-align: middle;\n",
       "    }\n",
       "\n",
       "    .dataframe tbody tr th {\n",
       "        vertical-align: top;\n",
       "    }\n",
       "\n",
       "    .dataframe thead th {\n",
       "        text-align: right;\n",
       "    }\n",
       "</style>\n",
       "<table border=\"1\" class=\"dataframe\">\n",
       "  <thead>\n",
       "    <tr style=\"text-align: right;\">\n",
       "      <th></th>\n",
       "      <th># of Certificated Teachers(2018-2019)</th>\n",
       "    </tr>\n",
       "  </thead>\n",
       "  <tbody>\n",
       "    <tr>\n",
       "      <th>Hayward-Unified</th>\n",
       "      <td>1,116</td>\n",
       "    </tr>\n",
       "    <tr>\n",
       "      <th>Pleasanton-Unified</th>\n",
       "      <td>720</td>\n",
       "    </tr>\n",
       "    <tr>\n",
       "      <th>Sunol-Glen-Unified</th>\n",
       "      <td>15</td>\n",
       "    </tr>\n",
       "    <tr>\n",
       "      <th>Dublin-Unified</th>\n",
       "      <td>574</td>\n",
       "    </tr>\n",
       "    <tr>\n",
       "      <th>San-Lorenzo-Unified</th>\n",
       "      <td>568</td>\n",
       "    </tr>\n",
       "    <tr>\n",
       "      <th>San-Leandro-Unified</th>\n",
       "      <td>432</td>\n",
       "    </tr>\n",
       "    <tr>\n",
       "      <th>Piedmont-City-Unified</th>\n",
       "      <td>181</td>\n",
       "    </tr>\n",
       "    <tr>\n",
       "      <th>Mountain-House-Elementary</th>\n",
       "      <td>1</td>\n",
       "    </tr>\n",
       "    <tr>\n",
       "      <th>Alameda-Unified</th>\n",
       "      <td>593</td>\n",
       "    </tr>\n",
       "    <tr>\n",
       "      <th>Albany-City-Unified</th>\n",
       "      <td>202</td>\n",
       "    </tr>\n",
       "    <tr>\n",
       "      <th>Berkeley-Unified</th>\n",
       "      <td>673</td>\n",
       "    </tr>\n",
       "    <tr>\n",
       "      <th>New-Haven-Unified</th>\n",
       "      <td>529</td>\n",
       "    </tr>\n",
       "    <tr>\n",
       "      <th>Oakland-Unified</th>\n",
       "      <td>3,116</td>\n",
       "    </tr>\n",
       "    <tr>\n",
       "      <th>Castro-Valley-Unified</th>\n",
       "      <td>450</td>\n",
       "    </tr>\n",
       "    <tr>\n",
       "      <th>Emery-Unified</th>\n",
       "      <td>45</td>\n",
       "    </tr>\n",
       "    <tr>\n",
       "      <th>Livermore-Valley-Joint-Unified</th>\n",
       "      <td>691</td>\n",
       "    </tr>\n",
       "    <tr>\n",
       "      <th>Newark-Unified</th>\n",
       "      <td>242</td>\n",
       "    </tr>\n",
       "    <tr>\n",
       "      <th>Fremont-Unified</th>\n",
       "      <td>1,828</td>\n",
       "    </tr>\n",
       "  </tbody>\n",
       "</table>\n",
       "</div>"
      ],
      "text/plain": [
       "                               # of Certificated Teachers(2018-2019)\n",
       "Hayward-Unified                                                1,116\n",
       "Pleasanton-Unified                                               720\n",
       "Sunol-Glen-Unified                                                15\n",
       "Dublin-Unified                                                   574\n",
       "San-Lorenzo-Unified                                              568\n",
       "San-Leandro-Unified                                              432\n",
       "Piedmont-City-Unified                                            181\n",
       "Mountain-House-Elementary                                          1\n",
       "Alameda-Unified                                                  593\n",
       "Albany-City-Unified                                              202\n",
       "Berkeley-Unified                                                 673\n",
       "New-Haven-Unified                                                529\n",
       "Oakland-Unified                                                3,116\n",
       "Castro-Valley-Unified                                            450\n",
       "Emery-Unified                                                     45\n",
       "Livermore-Valley-Joint-Unified                                   691\n",
       "Newark-Unified                                                   242\n",
       "Fremont-Unified                                                1,828"
      ]
     },
     "execution_count": 86,
     "metadata": {},
     "output_type": "execute_result"
    }
   ],
   "source": [
    "df = pd.DataFrame.from_dict(alameda_teacher_dict, orient='index', columns=['# of Certificated Teachers(2018-2019)'])\n",
    "df"
   ]
  },
  {
   "cell_type": "code",
   "execution_count": null,
   "metadata": {},
   "outputs": [],
   "source": []
  },
  {
   "cell_type": "markdown",
   "metadata": {},
   "source": [
    "# GO BOND C1-2"
   ]
  },
  {
   "cell_type": "code",
   "execution_count": 88,
   "metadata": {},
   "outputs": [],
   "source": [
    "# driver = webdriver.Chrome()\n",
    "# driver.get(\"https://www.ed-data.org/district/Alameda/Hayward-Unified\")"
   ]
  },
  {
   "cell_type": "code",
   "execution_count": 89,
   "metadata": {},
   "outputs": [],
   "source": [
    "# click a button to the Local Revenue Elections page\n",
    "# elections_button = driver.find_element(By.XPATH, '//*[@id=\"horizontalTab\"]/ul/li[4]').click()"
   ]
  },
  {
   "cell_type": "code",
   "execution_count": 90,
   "metadata": {},
   "outputs": [],
   "source": [
    "#  # extract data using beautiful soup\n",
    "# html = driver.page_source\n",
    "# soup = BeautifulSoup(html, 'html.parser')\n",
    "# main_div = soup.find('div', {\"id\": 'chartContent-153'})\n",
    "# table = main_div.find('table', class_='table footable table-bordered master-footable')\n",
    "# header_row = table.find('thead').find('tr')\n",
    "\n",
    "# # Initialize variables to store the results\n",
    "# total_gobonds_and_parcel_taxes_attempted = 0\n",
    "# total_gobonds_and_parcel_taxes_passed = 0\n",
    "\n",
    "# # Extract column names with years greater than or equal to 2000\n",
    "# columns = [col.text.strip() for col in header_row.find_all('th') if '-' in col.text.strip() and int(col.text.strip().split('-')[0]) >= 2000]\n",
    "\n",
    "# # Find the rows with \"Total\" and \"Passed\" labels\n",
    "# total_row = table.find('tfoot').find('tr', class_='chart-data-total')\n",
    "# passed_row = table.find('tbody').find_all('tr', class_='chart-data-row')[1]\n",
    "\n",
    "# # Loop through the columns to calculate the totals\n",
    "# for i, col_name in enumerate(columns):\n",
    "#     # Get the value in the \"Total\" row for the current column\n",
    "#     total_value = int(total_row.find_all('td')[i + 1].text.strip())\n",
    "#     total_gobonds_and_parcel_taxes_attempted += total_value\n",
    "    \n",
    "#     # # Get the value in the \"Passed\" row for the current column\n",
    "#     spans = passed_row.find_all(lambda tag: tag.name == 'span' and tag.get('class') == ['view-toggle'])\n",
    "#     passed_value = int(spans[i].text.strip())\n",
    "#     total_gobonds_and_parcel_taxes_passed += passed_value\n",
    "\n",
    "# # Print the results\n",
    "# print(\"Total GO Bonds and Parcel Taxes Attempted (2000-2029):\", total_gobonds_and_parcel_taxes_attempted)\n",
    "# print(\"Total GO Bonds and Parcel Taxes Passed (2000-2029):\", total_gobonds_and_parcel_taxes_passed)"
   ]
  },
  {
   "cell_type": "code",
   "execution_count": 12,
   "metadata": {},
   "outputs": [],
   "source": [
    "# Mountain House Elementary: no data table\n",
    "def go_bonds_c12(county, district):\n",
    "    '''\n",
    "    Function: Find the first two columns of the GO Bonds information\n",
    "\n",
    "    Input:\n",
    "    county eg. Alameda\n",
    "    district eg. Hayward-Unified\n",
    "\n",
    "    Output:\n",
    "    Total GO Bonds and Parcel Taxes Attempted (2000 - 2029)\n",
    "    Total GO Bonds and Parcel Taxes Passed (2000 - 2029)\n",
    "    '''\n",
    "    # Open a simulated chrome browser \n",
    "    driver = webdriver.Chrome()\n",
    "    url = f'https://www.ed-data.org/district/{county}/{district}'\n",
    "    driver.get(url)\n",
    "\n",
    "    # click a button to the Local Revenue Elections page\n",
    "    elections_button = driver.find_element(By.XPATH, '//*[@id=\"horizontalTab\"]/ul/li[4]').click()\n",
    "\n",
    "\n",
    "    # wait = WebDriverWait(driver, 10)\n",
    "    # chart_content_element = wait.until(EC.presence_of_element_located((By.ID, 'chartContent-153')))\n",
    "    \n",
    "     # extract data using beautiful soup\n",
    "    html = driver.page_source\n",
    "    soup = BeautifulSoup(html, 'html.parser')\n",
    "    main_div = soup.find('div', {\"class\": 'chartContent',\"id\": 'chartContent-153'})\n",
    "    if main_div:\n",
    "        table = main_div.find('table', class_='table footable table-bordered master-footable')\n",
    "        if table:\n",
    "            header_row = table.find('thead').find('tr')\n",
    "        else:\n",
    "            print('Table data is not found.')\n",
    "            driver.quit()\n",
    "            return \n",
    "    else:\n",
    "        print('Table data is not found.')\n",
    "        driver.quit()\n",
    "        return \n",
    "\n",
    "\n",
    "    # Initialize variables to store the results\n",
    "    total_gobonds_and_parcel_taxes_attempted = 0\n",
    "    total_gobonds_and_parcel_taxes_passed = 0\n",
    "\n",
    "    # Extract column names with years greater than or equal to 2000\n",
    "    columns_and_positions = [(col.text.strip(), i) for i, col in enumerate(header_row.find_all('th')) if '-' in col.text.strip() and int(col.text.strip().split('-')[0]) >= 2000]\n",
    "\n",
    "    # Find the \"Total\" and \"Passed\" rows\n",
    "    total_row = table.find('tfoot').find('tr', class_='chart-data-total')\n",
    "    passed_row = table.find('tbody').find_all('tr', class_='chart-data-row')[1]\n",
    "    \n",
    "    # Loop through the columns\n",
    "    for col_name, col_index in columns_and_positions:\n",
    "        # Get the value in the \"Total\" row for the current column\n",
    "        total_value = total_row.find_all('td')[col_index].text.strip()\n",
    "        try:\n",
    "            total_value = int(total_value)\n",
    "        except ValueError:\n",
    "            total_value = 0\n",
    "        total_gobonds_and_parcel_taxes_attempted += total_value\n",
    "\n",
    "        # Get the value in the \"Passed\" row for the current column\n",
    "        spans = passed_row.find_all(lambda tag: tag.name == 'span' and tag.get('class') == ['view-toggle'])\n",
    "        passed_value = spans[col_index-1].text.strip()\n",
    "        try:\n",
    "            passed_value = int(passed_value)\n",
    "        except ValueError:\n",
    "            passed_value = 0\n",
    "        total_gobonds_and_parcel_taxes_passed += passed_value\n",
    "\n",
    "    # Print the results\n",
    "    print(\"Total GO Bonds and Parcel Taxes Attempted (2000-2029) for \"+ district + \": \", total_gobonds_and_parcel_taxes_attempted)\n",
    "    print(\"Total GO Bonds and Parcel Taxes Passed (2000-2029) for \"+ district + \": \", total_gobonds_and_parcel_taxes_passed)\n",
    "    driver.quit()\n",
    "    return total_gobonds_and_parcel_taxes_attempted, total_gobonds_and_parcel_taxes_passed"
   ]
  },
  {
   "cell_type": "code",
   "execution_count": 20,
   "metadata": {},
   "outputs": [
    {
     "name": "stdout",
     "output_type": "stream",
     "text": [
      "Total GO Bonds and Parcel Taxes Attempted (2000-2029) for Pleasanton-Unified:  5\n",
      "Total GO Bonds and Parcel Taxes Passed (2000-2029) for Pleasanton-Unified:  2\n"
     ]
    }
   ],
   "source": [
    "pleasanton_unified_go_bonds = go_bonds_c12('Alameda', 'Pleasanton-Unified')"
   ]
  },
  {
   "cell_type": "code",
   "execution_count": 87,
   "metadata": {},
   "outputs": [
    {
     "name": "stderr",
     "output_type": "stream",
     "text": [
      "The chromedriver version (117.0.5938.92) detected in PATH at /usr/local/bin/chromedriver might not be compatible with the detected chrome version (118.0.5993.88); currently, chromedriver 118.0.5993.70 is recommended for chrome 118.*, so it is advised to delete the driver in PATH and retry\n"
     ]
    },
    {
     "name": "stdout",
     "output_type": "stream",
     "text": [
      "Total GO Bonds and Parcel Taxes Attempted (2000-2029): 2\n",
      "Total GO Bonds and Parcel Taxes Passed (2000-2029): 1\n"
     ]
    }
   ],
   "source": [
    "sunol_glen_unified_go_bonds = find_bonds_c12('Alameda', 'Sunol-Glen-Unified')"
   ]
  },
  {
   "cell_type": "code",
   "execution_count": 93,
   "metadata": {},
   "outputs": [
    {
     "name": "stderr",
     "output_type": "stream",
     "text": [
      "The chromedriver version (117.0.5938.92) detected in PATH at /usr/local/bin/chromedriver might not be compatible with the detected chrome version (118.0.5993.88); currently, chromedriver 118.0.5993.70 is recommended for chrome 118.*, so it is advised to delete the driver in PATH and retry\n"
     ]
    },
    {
     "name": "stdout",
     "output_type": "stream",
     "text": [
      "Total GO Bonds and Parcel Taxes Attempted (2000-2029): 7\n",
      "Total GO Bonds and Parcel Taxes Passed (2000-2029): 6\n"
     ]
    }
   ],
   "source": [
    "Dublin_Unified_go_bonds = find_bonds('Alameda', 'Dublin-Unified')"
   ]
  },
  {
   "cell_type": "code",
   "execution_count": 13,
   "metadata": {},
   "outputs": [],
   "source": [
    "def automated_bonds_c12(county_name, districts_text):\n",
    "    '''\n",
    "    county_name eg. 'Alameda'\n",
    "    districts_text: copy the school district names from master county tracker\n",
    "    '''\n",
    "    districts_list = districts_text.split('\\n')\n",
    "    # Add a hyphen between each word in each district name\n",
    "    districts_with_hyphen = ['-'.join(district.split()) for district in districts_list]\n",
    "    bonds_dict = {}\n",
    "    for district in districts_with_hyphen:\n",
    "        bonds_data_combined = go_bonds_c12(county_name, district)\n",
    "        bonds_dict[district] = bonds_data_combined\n",
    "    return bonds_dict"
   ]
  },
  {
   "cell_type": "code",
   "execution_count": 14,
   "metadata": {},
   "outputs": [
    {
     "name": "stdout",
     "output_type": "stream",
     "text": [
      "Table data is not found.\n",
      "Total GO Bonds and Parcel Taxes Attempted (2000-2029) for Hollister:  3\n",
      "Total GO Bonds and Parcel Taxes Passed (2000-2029) for Hollister:  2\n",
      "Table data is not found.\n",
      "Table data is not found.\n",
      "Total GO Bonds and Parcel Taxes Attempted (2000-2029) for North-County-Joint-Union-Elementary:  1\n",
      "Total GO Bonds and Parcel Taxes Passed (2000-2029) for North-County-Joint-Union-Elementary:  1\n",
      "Table data is not found.\n",
      "Table data is not found.\n"
     ]
    },
    {
     "ename": "NoSuchElementException",
     "evalue": "Message: no such element: Unable to locate element: {\"method\":\"xpath\",\"selector\":\"//*[@id=\"horizontalTab\"]/ul/li[4]\"}\n  (Session info: chrome=119.0.6045.105); For documentation on this error, please visit: https://www.selenium.dev/documentation/webdriver/troubleshooting/errors#no-such-element-exception\nStacktrace:\n0   chromedriver                        0x0000000104e82004 chromedriver + 4169732\n1   chromedriver                        0x0000000104e79ff8 chromedriver + 4136952\n2   chromedriver                        0x0000000104acf500 chromedriver + 292096\n3   chromedriver                        0x0000000104b147a0 chromedriver + 575392\n4   chromedriver                        0x0000000104b4f818 chromedriver + 817176\n5   chromedriver                        0x0000000104b085e8 chromedriver + 525800\n6   chromedriver                        0x0000000104b094b8 chromedriver + 529592\n7   chromedriver                        0x0000000104e48334 chromedriver + 3932980\n8   chromedriver                        0x0000000104e4c970 chromedriver + 3950960\n9   chromedriver                        0x0000000104e30774 chromedriver + 3835764\n10  chromedriver                        0x0000000104e4d478 chromedriver + 3953784\n11  chromedriver                        0x0000000104e22ab4 chromedriver + 3779252\n12  chromedriver                        0x0000000104e69914 chromedriver + 4069652\n13  chromedriver                        0x0000000104e69a90 chromedriver + 4070032\n14  chromedriver                        0x0000000104e79c70 chromedriver + 4136048\n15  libsystem_pthread.dylib             0x00000001c1cfc26c _pthread_start + 148\n16  libsystem_pthread.dylib             0x00000001c1cf708c thread_start + 8\n",
     "output_type": "error",
     "traceback": [
      "\u001b[0;31m---------------------------------------------------------------------------\u001b[0m",
      "\u001b[0;31mNoSuchElementException\u001b[0m                    Traceback (most recent call last)",
      "\u001b[1;32m/Users/michellelin/Desktop/Ten Strands/webscrapping_Michelle.ipynb Cell 31\u001b[0m line \u001b[0;36m<cell line: 12>\u001b[0;34m()\u001b[0m\n\u001b[1;32m      <a href='vscode-notebook-cell:/Users/michellelin/Desktop/Ten%20Strands/webscrapping_Michelle.ipynb#Y111sZmlsZQ%3D%3D?line=0'>1</a>\u001b[0m san_benito_text \u001b[39m=\u001b[39m \u001b[39m\"\"\"\u001b[39m\u001b[39mCienega Union Elementary\u001b[39m\n\u001b[1;32m      <a href='vscode-notebook-cell:/Users/michellelin/Desktop/Ten%20Strands/webscrapping_Michelle.ipynb#Y111sZmlsZQ%3D%3D?line=1'>2</a>\u001b[0m \u001b[39mHollister\u001b[39m\n\u001b[1;32m      <a href='vscode-notebook-cell:/Users/michellelin/Desktop/Ten%20Strands/webscrapping_Michelle.ipynb#Y111sZmlsZQ%3D%3D?line=2'>3</a>\u001b[0m \u001b[39mJefferson Elementary\u001b[39m\n\u001b[0;32m   (...)\u001b[0m\n\u001b[1;32m     <a href='vscode-notebook-cell:/Users/michellelin/Desktop/Ten%20Strands/webscrapping_Michelle.ipynb#Y111sZmlsZQ%3D%3D?line=9'>10</a>\u001b[0m \u001b[39mTres Pinos Union Elementary\u001b[39m\n\u001b[1;32m     <a href='vscode-notebook-cell:/Users/michellelin/Desktop/Ten%20Strands/webscrapping_Michelle.ipynb#Y111sZmlsZQ%3D%3D?line=10'>11</a>\u001b[0m \u001b[39mWillow Grove Union Elementary\u001b[39m\u001b[39m\"\"\"\u001b[39m\n\u001b[0;32m---> <a href='vscode-notebook-cell:/Users/michellelin/Desktop/Ten%20Strands/webscrapping_Michelle.ipynb#Y111sZmlsZQ%3D%3D?line=11'>12</a>\u001b[0m san_benito_teacher_dict \u001b[39m=\u001b[39m automated_bonds_c12(\u001b[39m'\u001b[39;49m\u001b[39mSan-Benito\u001b[39;49m\u001b[39m'\u001b[39;49m, san_benito_text)\n",
      "\u001b[1;32m/Users/michellelin/Desktop/Ten Strands/webscrapping_Michelle.ipynb Cell 31\u001b[0m line \u001b[0;36mautomated_bonds_c12\u001b[0;34m(county_name, districts_text)\u001b[0m\n\u001b[1;32m      <a href='vscode-notebook-cell:/Users/michellelin/Desktop/Ten%20Strands/webscrapping_Michelle.ipynb#Y111sZmlsZQ%3D%3D?line=8'>9</a>\u001b[0m bonds_dict \u001b[39m=\u001b[39m {}\n\u001b[1;32m     <a href='vscode-notebook-cell:/Users/michellelin/Desktop/Ten%20Strands/webscrapping_Michelle.ipynb#Y111sZmlsZQ%3D%3D?line=9'>10</a>\u001b[0m \u001b[39mfor\u001b[39;00m district \u001b[39min\u001b[39;00m districts_with_hyphen:\n\u001b[0;32m---> <a href='vscode-notebook-cell:/Users/michellelin/Desktop/Ten%20Strands/webscrapping_Michelle.ipynb#Y111sZmlsZQ%3D%3D?line=10'>11</a>\u001b[0m     bonds_data_combined \u001b[39m=\u001b[39m go_bonds_c12(county_name, district)\n\u001b[1;32m     <a href='vscode-notebook-cell:/Users/michellelin/Desktop/Ten%20Strands/webscrapping_Michelle.ipynb#Y111sZmlsZQ%3D%3D?line=11'>12</a>\u001b[0m     bonds_dict[district] \u001b[39m=\u001b[39m bonds_data_combined\n\u001b[1;32m     <a href='vscode-notebook-cell:/Users/michellelin/Desktop/Ten%20Strands/webscrapping_Michelle.ipynb#Y111sZmlsZQ%3D%3D?line=12'>13</a>\u001b[0m \u001b[39mreturn\u001b[39;00m bonds_dict\n",
      "\u001b[1;32m/Users/michellelin/Desktop/Ten Strands/webscrapping_Michelle.ipynb Cell 31\u001b[0m line \u001b[0;36mgo_bonds_c12\u001b[0;34m(county, district)\u001b[0m\n\u001b[1;32m     <a href='vscode-notebook-cell:/Users/michellelin/Desktop/Ten%20Strands/webscrapping_Michelle.ipynb#Y111sZmlsZQ%3D%3D?line=16'>17</a>\u001b[0m driver\u001b[39m.\u001b[39mget(url)\n\u001b[1;32m     <a href='vscode-notebook-cell:/Users/michellelin/Desktop/Ten%20Strands/webscrapping_Michelle.ipynb#Y111sZmlsZQ%3D%3D?line=18'>19</a>\u001b[0m \u001b[39m# click a button to the Local Revenue Elections page\u001b[39;00m\n\u001b[0;32m---> <a href='vscode-notebook-cell:/Users/michellelin/Desktop/Ten%20Strands/webscrapping_Michelle.ipynb#Y111sZmlsZQ%3D%3D?line=19'>20</a>\u001b[0m elections_button \u001b[39m=\u001b[39m driver\u001b[39m.\u001b[39;49mfind_element(By\u001b[39m.\u001b[39;49mXPATH, \u001b[39m'\u001b[39;49m\u001b[39m//*[@id=\u001b[39;49m\u001b[39m\"\u001b[39;49m\u001b[39mhorizontalTab\u001b[39;49m\u001b[39m\"\u001b[39;49m\u001b[39m]/ul/li[4]\u001b[39;49m\u001b[39m'\u001b[39;49m)\u001b[39m.\u001b[39mclick()\n\u001b[1;32m     <a href='vscode-notebook-cell:/Users/michellelin/Desktop/Ten%20Strands/webscrapping_Michelle.ipynb#Y111sZmlsZQ%3D%3D?line=22'>23</a>\u001b[0m \u001b[39m# wait = WebDriverWait(driver, 10)\u001b[39;00m\n\u001b[1;32m     <a href='vscode-notebook-cell:/Users/michellelin/Desktop/Ten%20Strands/webscrapping_Michelle.ipynb#Y111sZmlsZQ%3D%3D?line=23'>24</a>\u001b[0m \u001b[39m# chart_content_element = wait.until(EC.presence_of_element_located((By.ID, 'chartContent-153')))\u001b[39;00m\n\u001b[1;32m     <a href='vscode-notebook-cell:/Users/michellelin/Desktop/Ten%20Strands/webscrapping_Michelle.ipynb#Y111sZmlsZQ%3D%3D?line=24'>25</a>\u001b[0m \n\u001b[1;32m     <a href='vscode-notebook-cell:/Users/michellelin/Desktop/Ten%20Strands/webscrapping_Michelle.ipynb#Y111sZmlsZQ%3D%3D?line=25'>26</a>\u001b[0m  \u001b[39m# extract data using beautiful soup\u001b[39;00m\n\u001b[1;32m     <a href='vscode-notebook-cell:/Users/michellelin/Desktop/Ten%20Strands/webscrapping_Michelle.ipynb#Y111sZmlsZQ%3D%3D?line=26'>27</a>\u001b[0m html \u001b[39m=\u001b[39m driver\u001b[39m.\u001b[39mpage_source\n",
      "File \u001b[0;32m~/opt/anaconda3/lib/python3.9/site-packages/selenium/webdriver/remote/webdriver.py:738\u001b[0m, in \u001b[0;36mWebDriver.find_element\u001b[0;34m(self, by, value)\u001b[0m\n\u001b[1;32m    735\u001b[0m     by \u001b[39m=\u001b[39m By\u001b[39m.\u001b[39mCSS_SELECTOR\n\u001b[1;32m    736\u001b[0m     value \u001b[39m=\u001b[39m \u001b[39mf\u001b[39m\u001b[39m'\u001b[39m\u001b[39m[name=\u001b[39m\u001b[39m\"\u001b[39m\u001b[39m{\u001b[39;00mvalue\u001b[39m}\u001b[39;00m\u001b[39m\"\u001b[39m\u001b[39m]\u001b[39m\u001b[39m'\u001b[39m\n\u001b[0;32m--> 738\u001b[0m \u001b[39mreturn\u001b[39;00m \u001b[39mself\u001b[39;49m\u001b[39m.\u001b[39;49mexecute(Command\u001b[39m.\u001b[39;49mFIND_ELEMENT, {\u001b[39m\"\u001b[39;49m\u001b[39musing\u001b[39;49m\u001b[39m\"\u001b[39;49m: by, \u001b[39m\"\u001b[39;49m\u001b[39mvalue\u001b[39;49m\u001b[39m\"\u001b[39;49m: value})[\u001b[39m\"\u001b[39m\u001b[39mvalue\u001b[39m\u001b[39m\"\u001b[39m]\n",
      "File \u001b[0;32m~/opt/anaconda3/lib/python3.9/site-packages/selenium/webdriver/remote/webdriver.py:344\u001b[0m, in \u001b[0;36mWebDriver.execute\u001b[0;34m(self, driver_command, params)\u001b[0m\n\u001b[1;32m    342\u001b[0m response \u001b[39m=\u001b[39m \u001b[39mself\u001b[39m\u001b[39m.\u001b[39mcommand_executor\u001b[39m.\u001b[39mexecute(driver_command, params)\n\u001b[1;32m    343\u001b[0m \u001b[39mif\u001b[39;00m response:\n\u001b[0;32m--> 344\u001b[0m     \u001b[39mself\u001b[39;49m\u001b[39m.\u001b[39;49merror_handler\u001b[39m.\u001b[39;49mcheck_response(response)\n\u001b[1;32m    345\u001b[0m     response[\u001b[39m\"\u001b[39m\u001b[39mvalue\u001b[39m\u001b[39m\"\u001b[39m] \u001b[39m=\u001b[39m \u001b[39mself\u001b[39m\u001b[39m.\u001b[39m_unwrap_value(response\u001b[39m.\u001b[39mget(\u001b[39m\"\u001b[39m\u001b[39mvalue\u001b[39m\u001b[39m\"\u001b[39m, \u001b[39mNone\u001b[39;00m))\n\u001b[1;32m    346\u001b[0m     \u001b[39mreturn\u001b[39;00m response\n",
      "File \u001b[0;32m~/opt/anaconda3/lib/python3.9/site-packages/selenium/webdriver/remote/errorhandler.py:229\u001b[0m, in \u001b[0;36mErrorHandler.check_response\u001b[0;34m(self, response)\u001b[0m\n\u001b[1;32m    227\u001b[0m         alert_text \u001b[39m=\u001b[39m value[\u001b[39m\"\u001b[39m\u001b[39malert\u001b[39m\u001b[39m\"\u001b[39m]\u001b[39m.\u001b[39mget(\u001b[39m\"\u001b[39m\u001b[39mtext\u001b[39m\u001b[39m\"\u001b[39m)\n\u001b[1;32m    228\u001b[0m     \u001b[39mraise\u001b[39;00m exception_class(message, screen, stacktrace, alert_text)  \u001b[39m# type: ignore[call-arg]  # mypy is not smart enough here\u001b[39;00m\n\u001b[0;32m--> 229\u001b[0m \u001b[39mraise\u001b[39;00m exception_class(message, screen, stacktrace)\n",
      "\u001b[0;31mNoSuchElementException\u001b[0m: Message: no such element: Unable to locate element: {\"method\":\"xpath\",\"selector\":\"//*[@id=\"horizontalTab\"]/ul/li[4]\"}\n  (Session info: chrome=119.0.6045.105); For documentation on this error, please visit: https://www.selenium.dev/documentation/webdriver/troubleshooting/errors#no-such-element-exception\nStacktrace:\n0   chromedriver                        0x0000000104e82004 chromedriver + 4169732\n1   chromedriver                        0x0000000104e79ff8 chromedriver + 4136952\n2   chromedriver                        0x0000000104acf500 chromedriver + 292096\n3   chromedriver                        0x0000000104b147a0 chromedriver + 575392\n4   chromedriver                        0x0000000104b4f818 chromedriver + 817176\n5   chromedriver                        0x0000000104b085e8 chromedriver + 525800\n6   chromedriver                        0x0000000104b094b8 chromedriver + 529592\n7   chromedriver                        0x0000000104e48334 chromedriver + 3932980\n8   chromedriver                        0x0000000104e4c970 chromedriver + 3950960\n9   chromedriver                        0x0000000104e30774 chromedriver + 3835764\n10  chromedriver                        0x0000000104e4d478 chromedriver + 3953784\n11  chromedriver                        0x0000000104e22ab4 chromedriver + 3779252\n12  chromedriver                        0x0000000104e69914 chromedriver + 4069652\n13  chromedriver                        0x0000000104e69a90 chromedriver + 4070032\n14  chromedriver                        0x0000000104e79c70 chromedriver + 4136048\n15  libsystem_pthread.dylib             0x00000001c1cfc26c _pthread_start + 148\n16  libsystem_pthread.dylib             0x00000001c1cf708c thread_start + 8\n"
     ]
    }
   ],
   "source": [
    "san_benito_text = \"\"\"Cienega Union Elementary\n",
    "Hollister\n",
    "Jefferson Elementary\n",
    "New Idria Elementary\n",
    "North County Joint Union Elementary\n",
    "Olympia Elementary\n",
    "Panoche Elementary\n",
    "San Benito High School District\n",
    "Southside Elementary\n",
    "Tres Pinos Union Elementary\n",
    "Willow Grove Union Elementary\"\"\"\n",
    "san_benito_teacher_dict = automated_bonds_c12('San-Benito', san_benito_text)"
   ]
  },
  {
   "cell_type": "code",
   "execution_count": 106,
   "metadata": {},
   "outputs": [
    {
     "name": "stderr",
     "output_type": "stream",
     "text": [
      "The chromedriver version (117.0.5938.92) detected in PATH at /usr/local/bin/chromedriver might not be compatible with the detected chrome version (118.0.5993.88); currently, chromedriver 118.0.5993.70 is recommended for chrome 118.*, so it is advised to delete the driver in PATH and retry\n"
     ]
    },
    {
     "name": "stdout",
     "output_type": "stream",
     "text": [
      "Total GO Bonds and Parcel Taxes Attempted (2000-2029) for Hayward-Unified:  5\n",
      "Total GO Bonds and Parcel Taxes Passed (2000-2029) for Hayward-Unified:  5\n"
     ]
    },
    {
     "name": "stderr",
     "output_type": "stream",
     "text": [
      "The chromedriver version (117.0.5938.92) detected in PATH at /usr/local/bin/chromedriver might not be compatible with the detected chrome version (118.0.5993.88); currently, chromedriver 118.0.5993.70 is recommended for chrome 118.*, so it is advised to delete the driver in PATH and retry\n"
     ]
    },
    {
     "name": "stdout",
     "output_type": "stream",
     "text": [
      "Total GO Bonds and Parcel Taxes Attempted (2000-2029) for Pleasanton-Unified:  5\n",
      "Total GO Bonds and Parcel Taxes Passed (2000-2029) for Pleasanton-Unified:  2\n"
     ]
    },
    {
     "name": "stderr",
     "output_type": "stream",
     "text": [
      "The chromedriver version (117.0.5938.92) detected in PATH at /usr/local/bin/chromedriver might not be compatible with the detected chrome version (118.0.5993.88); currently, chromedriver 118.0.5993.70 is recommended for chrome 118.*, so it is advised to delete the driver in PATH and retry\n"
     ]
    },
    {
     "name": "stdout",
     "output_type": "stream",
     "text": [
      "Total GO Bonds and Parcel Taxes Attempted (2000-2029) for Sunol-Glen-Unified:  2\n",
      "Total GO Bonds and Parcel Taxes Passed (2000-2029) for Sunol-Glen-Unified:  1\n"
     ]
    },
    {
     "name": "stderr",
     "output_type": "stream",
     "text": [
      "The chromedriver version (117.0.5938.92) detected in PATH at /usr/local/bin/chromedriver might not be compatible with the detected chrome version (118.0.5993.88); currently, chromedriver 118.0.5993.70 is recommended for chrome 118.*, so it is advised to delete the driver in PATH and retry\n"
     ]
    },
    {
     "name": "stdout",
     "output_type": "stream",
     "text": [
      "Total GO Bonds and Parcel Taxes Attempted (2000-2029) for Dublin-Unified:  7\n",
      "Total GO Bonds and Parcel Taxes Passed (2000-2029) for Dublin-Unified:  6\n"
     ]
    },
    {
     "name": "stderr",
     "output_type": "stream",
     "text": [
      "The chromedriver version (117.0.5938.92) detected in PATH at /usr/local/bin/chromedriver might not be compatible with the detected chrome version (118.0.5993.88); currently, chromedriver 118.0.5993.70 is recommended for chrome 118.*, so it is advised to delete the driver in PATH and retry\n"
     ]
    },
    {
     "name": "stdout",
     "output_type": "stream",
     "text": [
      "Total GO Bonds and Parcel Taxes Attempted (2000-2029) for San-Lorenzo-Unified:  4\n",
      "Total GO Bonds and Parcel Taxes Passed (2000-2029) for San-Lorenzo-Unified:  4\n"
     ]
    },
    {
     "name": "stderr",
     "output_type": "stream",
     "text": [
      "The chromedriver version (117.0.5938.92) detected in PATH at /usr/local/bin/chromedriver might not be compatible with the detected chrome version (118.0.5993.88); currently, chromedriver 118.0.5993.70 is recommended for chrome 118.*, so it is advised to delete the driver in PATH and retry\n"
     ]
    },
    {
     "name": "stdout",
     "output_type": "stream",
     "text": [
      "Total GO Bonds and Parcel Taxes Attempted (2000-2029) for San-Leandro-Unified:  8\n",
      "Total GO Bonds and Parcel Taxes Passed (2000-2029) for San-Leandro-Unified:  6\n"
     ]
    },
    {
     "name": "stderr",
     "output_type": "stream",
     "text": [
      "The chromedriver version (117.0.5938.92) detected in PATH at /usr/local/bin/chromedriver might not be compatible with the detected chrome version (118.0.5993.88); currently, chromedriver 118.0.5993.70 is recommended for chrome 118.*, so it is advised to delete the driver in PATH and retry\n"
     ]
    },
    {
     "name": "stdout",
     "output_type": "stream",
     "text": [
      "Total GO Bonds and Parcel Taxes Attempted (2000-2029) for Piedmont-City-Unified:  10\n",
      "Total GO Bonds and Parcel Taxes Passed (2000-2029) for Piedmont-City-Unified:  9\n"
     ]
    },
    {
     "name": "stderr",
     "output_type": "stream",
     "text": [
      "The chromedriver version (117.0.5938.92) detected in PATH at /usr/local/bin/chromedriver might not be compatible with the detected chrome version (118.0.5993.88); currently, chromedriver 118.0.5993.70 is recommended for chrome 118.*, so it is advised to delete the driver in PATH and retry\n"
     ]
    },
    {
     "name": "stdout",
     "output_type": "stream",
     "text": [
      "Table data is not found.\n"
     ]
    },
    {
     "name": "stderr",
     "output_type": "stream",
     "text": [
      "The chromedriver version (117.0.5938.92) detected in PATH at /usr/local/bin/chromedriver might not be compatible with the detected chrome version (118.0.5993.88); currently, chromedriver 118.0.5993.70 is recommended for chrome 118.*, so it is advised to delete the driver in PATH and retry\n"
     ]
    },
    {
     "name": "stdout",
     "output_type": "stream",
     "text": [
      "Total GO Bonds and Parcel Taxes Attempted (2000-2029) for Alameda-Unified:  9\n",
      "Total GO Bonds and Parcel Taxes Passed (2000-2029) for Alameda-Unified:  8\n"
     ]
    },
    {
     "name": "stderr",
     "output_type": "stream",
     "text": [
      "The chromedriver version (117.0.5938.92) detected in PATH at /usr/local/bin/chromedriver might not be compatible with the detected chrome version (118.0.5993.88); currently, chromedriver 118.0.5993.70 is recommended for chrome 118.*, so it is advised to delete the driver in PATH and retry\n"
     ]
    },
    {
     "name": "stdout",
     "output_type": "stream",
     "text": [
      "Total GO Bonds and Parcel Taxes Attempted (2000-2029) for Albany-City-Unified:  9\n",
      "Total GO Bonds and Parcel Taxes Passed (2000-2029) for Albany-City-Unified:  9\n"
     ]
    },
    {
     "name": "stderr",
     "output_type": "stream",
     "text": [
      "The chromedriver version (117.0.5938.92) detected in PATH at /usr/local/bin/chromedriver might not be compatible with the detected chrome version (118.0.5993.88); currently, chromedriver 118.0.5993.70 is recommended for chrome 118.*, so it is advised to delete the driver in PATH and retry\n"
     ]
    },
    {
     "name": "stdout",
     "output_type": "stream",
     "text": [
      "Total GO Bonds and Parcel Taxes Attempted (2000-2029) for Berkeley-Unified:  9\n",
      "Total GO Bonds and Parcel Taxes Passed (2000-2029) for Berkeley-Unified:  9\n"
     ]
    },
    {
     "name": "stderr",
     "output_type": "stream",
     "text": [
      "The chromedriver version (117.0.5938.92) detected in PATH at /usr/local/bin/chromedriver might not be compatible with the detected chrome version (118.0.5993.88); currently, chromedriver 118.0.5993.70 is recommended for chrome 118.*, so it is advised to delete the driver in PATH and retry\n"
     ]
    },
    {
     "name": "stdout",
     "output_type": "stream",
     "text": [
      "Total GO Bonds and Parcel Taxes Attempted (2000-2029) for New-Haven-Unified:  4\n",
      "Total GO Bonds and Parcel Taxes Passed (2000-2029) for New-Haven-Unified:  2\n"
     ]
    },
    {
     "name": "stderr",
     "output_type": "stream",
     "text": [
      "The chromedriver version (117.0.5938.92) detected in PATH at /usr/local/bin/chromedriver might not be compatible with the detected chrome version (118.0.5993.88); currently, chromedriver 118.0.5993.70 is recommended for chrome 118.*, so it is advised to delete the driver in PATH and retry\n"
     ]
    },
    {
     "name": "stdout",
     "output_type": "stream",
     "text": [
      "Total GO Bonds and Parcel Taxes Attempted (2000-2029) for Oakland-Unified:  11\n",
      "Total GO Bonds and Parcel Taxes Passed (2000-2029) for Oakland-Unified:  9\n"
     ]
    },
    {
     "name": "stderr",
     "output_type": "stream",
     "text": [
      "The chromedriver version (117.0.5938.92) detected in PATH at /usr/local/bin/chromedriver might not be compatible with the detected chrome version (118.0.5993.88); currently, chromedriver 118.0.5993.70 is recommended for chrome 118.*, so it is advised to delete the driver in PATH and retry\n"
     ]
    },
    {
     "name": "stdout",
     "output_type": "stream",
     "text": [
      "Total GO Bonds and Parcel Taxes Attempted (2000-2029) for Castro-Valley-Unified:  4\n",
      "Total GO Bonds and Parcel Taxes Passed (2000-2029) for Castro-Valley-Unified:  3\n"
     ]
    },
    {
     "name": "stderr",
     "output_type": "stream",
     "text": [
      "The chromedriver version (117.0.5938.92) detected in PATH at /usr/local/bin/chromedriver might not be compatible with the detected chrome version (118.0.5993.88); currently, chromedriver 118.0.5993.70 is recommended for chrome 118.*, so it is advised to delete the driver in PATH and retry\n"
     ]
    },
    {
     "name": "stdout",
     "output_type": "stream",
     "text": [
      "Total GO Bonds and Parcel Taxes Attempted (2000-2029) for Emery-Unified:  5\n",
      "Total GO Bonds and Parcel Taxes Passed (2000-2029) for Emery-Unified:  5\n"
     ]
    },
    {
     "name": "stderr",
     "output_type": "stream",
     "text": [
      "The chromedriver version (117.0.5938.92) detected in PATH at /usr/local/bin/chromedriver might not be compatible with the detected chrome version (118.0.5993.88); currently, chromedriver 118.0.5993.70 is recommended for chrome 118.*, so it is advised to delete the driver in PATH and retry\n"
     ]
    },
    {
     "name": "stdout",
     "output_type": "stream",
     "text": [
      "Total GO Bonds and Parcel Taxes Attempted (2000-2029) for Livermore-Valley-Joint-Unified:  6\n",
      "Total GO Bonds and Parcel Taxes Passed (2000-2029) for Livermore-Valley-Joint-Unified:  5\n"
     ]
    },
    {
     "name": "stderr",
     "output_type": "stream",
     "text": [
      "The chromedriver version (117.0.5938.92) detected in PATH at /usr/local/bin/chromedriver might not be compatible with the detected chrome version (118.0.5993.88); currently, chromedriver 118.0.5993.70 is recommended for chrome 118.*, so it is advised to delete the driver in PATH and retry\n"
     ]
    },
    {
     "name": "stdout",
     "output_type": "stream",
     "text": [
      "Total GO Bonds and Parcel Taxes Attempted (2000-2029) for Newark-Unified:  2\n",
      "Total GO Bonds and Parcel Taxes Passed (2000-2029) for Newark-Unified:  1\n"
     ]
    },
    {
     "name": "stderr",
     "output_type": "stream",
     "text": [
      "The chromedriver version (117.0.5938.92) detected in PATH at /usr/local/bin/chromedriver might not be compatible with the detected chrome version (118.0.5993.88); currently, chromedriver 118.0.5993.70 is recommended for chrome 118.*, so it is advised to delete the driver in PATH and retry\n"
     ]
    },
    {
     "name": "stdout",
     "output_type": "stream",
     "text": [
      "Total GO Bonds and Parcel Taxes Attempted (2000-2029) for Fremont-Unified:  4\n",
      "Total GO Bonds and Parcel Taxes Passed (2000-2029) for Fremont-Unified:  3\n"
     ]
    }
   ],
   "source": [
    "alameda_text = \"\"\"Hayward Unified\n",
    "Pleasanton Unified\n",
    "Sunol Glen Unified\n",
    "Dublin Unified\n",
    "San Lorenzo Unified\n",
    "San Leandro Unified\n",
    "Piedmont City Unified\n",
    "Mountain House Elementary\n",
    "Alameda Unified\n",
    "Albany City Unified\n",
    "Berkeley Unified\n",
    "New Haven Unified\n",
    "Oakland Unified\n",
    "Castro Valley Unified\n",
    "Emery Unified\n",
    "Livermore Valley Joint Unified\n",
    "Newark Unified\n",
    "Fremont Unified\"\"\"\n",
    "\n",
    "alameda_bonds_dict = automated_bonds('Alameda', alameda_text)"
   ]
  },
  {
   "cell_type": "code",
   "execution_count": 100,
   "metadata": {},
   "outputs": [
    {
     "name": "stderr",
     "output_type": "stream",
     "text": [
      "The chromedriver version (117.0.5938.92) detected in PATH at /usr/local/bin/chromedriver might not be compatible with the detected chrome version (118.0.5993.88); currently, chromedriver 118.0.5993.70 is recommended for chrome 118.*, so it is advised to delete the driver in PATH and retry\n"
     ]
    },
    {
     "name": "stdout",
     "output_type": "stream",
     "text": [
      "Table data is not found.\n"
     ]
    }
   ],
   "source": [
    "# No table data\n",
    "Mountain_House_Elementary_bonds = find_bonds('Alameda', 'Mountain-House-Elementary')"
   ]
  },
  {
   "cell_type": "code",
   "execution_count": 104,
   "metadata": {},
   "outputs": [
    {
     "name": "stderr",
     "output_type": "stream",
     "text": [
      "The chromedriver version (117.0.5938.92) detected in PATH at /usr/local/bin/chromedriver might not be compatible with the detected chrome version (118.0.5993.88); currently, chromedriver 118.0.5993.70 is recommended for chrome 118.*, so it is advised to delete the driver in PATH and retry\n"
     ]
    },
    {
     "name": "stdout",
     "output_type": "stream",
     "text": [
      "Total GO Bonds and Parcel Taxes Attempted (2000-2029) for Castro-Valley-Unified:  4\n",
      "Total GO Bonds and Parcel Taxes Passed (2000-2029) for Castro-Valley-Unified:  3\n"
     ]
    }
   ],
   "source": [
    "### Castro Valley Unified: N/A value\n",
    "Castro_Valley_Unified_bonds = find_bonds('Alameda', 'Castro-Valley-Unified')"
   ]
  },
  {
   "cell_type": "code",
   "execution_count": 119,
   "metadata": {},
   "outputs": [
    {
     "data": {
      "text/plain": [
       "{'Hayward-Unified': (5, 5),\n",
       " 'Pleasanton-Unified': (5, 2),\n",
       " 'Sunol-Glen-Unified': (2, 1),\n",
       " 'Dublin-Unified': (7, 6),\n",
       " 'San-Lorenzo-Unified': (4, 4),\n",
       " 'San-Leandro-Unified': (8, 6),\n",
       " 'Piedmont-City-Unified': (10, 9),\n",
       " 'Mountain-House-Elementary': None,\n",
       " 'Alameda-Unified': (9, 8),\n",
       " 'Albany-City-Unified': (9, 9),\n",
       " 'Berkeley-Unified': (9, 9),\n",
       " 'New-Haven-Unified': (4, 2),\n",
       " 'Oakland-Unified': (11, 9),\n",
       " 'Castro-Valley-Unified': (4, 3),\n",
       " 'Emery-Unified': (5, 5),\n",
       " 'Livermore-Valley-Joint-Unified': (6, 5),\n",
       " 'Newark-Unified': (2, 1),\n",
       " 'Fremont-Unified': (4, 3)}"
      ]
     },
     "execution_count": 119,
     "metadata": {},
     "output_type": "execute_result"
    }
   ],
   "source": [
    "alameda_bonds_dict"
   ]
  },
  {
   "cell_type": "code",
   "execution_count": 125,
   "metadata": {},
   "outputs": [
    {
     "data": {
      "text/html": [
       "<div>\n",
       "<style scoped>\n",
       "    .dataframe tbody tr th:only-of-type {\n",
       "        vertical-align: middle;\n",
       "    }\n",
       "\n",
       "    .dataframe tbody tr th {\n",
       "        vertical-align: top;\n",
       "    }\n",
       "\n",
       "    .dataframe thead th {\n",
       "        text-align: right;\n",
       "    }\n",
       "</style>\n",
       "<table border=\"1\" class=\"dataframe\">\n",
       "  <thead>\n",
       "    <tr style=\"text-align: right;\">\n",
       "      <th></th>\n",
       "      <th>Total GO Bonds and Parcel Taxes Attempted (2000-2029)</th>\n",
       "      <th>Total GO Bonds and Parcel Taxes Passed (2000-2029)</th>\n",
       "    </tr>\n",
       "  </thead>\n",
       "  <tbody>\n",
       "    <tr>\n",
       "      <th>Hayward-Unified</th>\n",
       "      <td>5</td>\n",
       "      <td>5</td>\n",
       "    </tr>\n",
       "    <tr>\n",
       "      <th>Pleasanton-Unified</th>\n",
       "      <td>5</td>\n",
       "      <td>2</td>\n",
       "    </tr>\n",
       "    <tr>\n",
       "      <th>Sunol-Glen-Unified</th>\n",
       "      <td>2</td>\n",
       "      <td>1</td>\n",
       "    </tr>\n",
       "    <tr>\n",
       "      <th>Dublin-Unified</th>\n",
       "      <td>7</td>\n",
       "      <td>6</td>\n",
       "    </tr>\n",
       "    <tr>\n",
       "      <th>San-Lorenzo-Unified</th>\n",
       "      <td>4</td>\n",
       "      <td>4</td>\n",
       "    </tr>\n",
       "    <tr>\n",
       "      <th>San-Leandro-Unified</th>\n",
       "      <td>8</td>\n",
       "      <td>6</td>\n",
       "    </tr>\n",
       "    <tr>\n",
       "      <th>Piedmont-City-Unified</th>\n",
       "      <td>10</td>\n",
       "      <td>9</td>\n",
       "    </tr>\n",
       "    <tr>\n",
       "      <th>Mountain-House-Elementary</th>\n",
       "      <td>&lt;NA&gt;</td>\n",
       "      <td>&lt;NA&gt;</td>\n",
       "    </tr>\n",
       "    <tr>\n",
       "      <th>Alameda-Unified</th>\n",
       "      <td>9</td>\n",
       "      <td>8</td>\n",
       "    </tr>\n",
       "    <tr>\n",
       "      <th>Albany-City-Unified</th>\n",
       "      <td>9</td>\n",
       "      <td>9</td>\n",
       "    </tr>\n",
       "    <tr>\n",
       "      <th>Berkeley-Unified</th>\n",
       "      <td>9</td>\n",
       "      <td>9</td>\n",
       "    </tr>\n",
       "    <tr>\n",
       "      <th>New-Haven-Unified</th>\n",
       "      <td>4</td>\n",
       "      <td>2</td>\n",
       "    </tr>\n",
       "    <tr>\n",
       "      <th>Oakland-Unified</th>\n",
       "      <td>11</td>\n",
       "      <td>9</td>\n",
       "    </tr>\n",
       "    <tr>\n",
       "      <th>Castro-Valley-Unified</th>\n",
       "      <td>4</td>\n",
       "      <td>3</td>\n",
       "    </tr>\n",
       "    <tr>\n",
       "      <th>Emery-Unified</th>\n",
       "      <td>5</td>\n",
       "      <td>5</td>\n",
       "    </tr>\n",
       "    <tr>\n",
       "      <th>Livermore-Valley-Joint-Unified</th>\n",
       "      <td>6</td>\n",
       "      <td>5</td>\n",
       "    </tr>\n",
       "    <tr>\n",
       "      <th>Newark-Unified</th>\n",
       "      <td>2</td>\n",
       "      <td>1</td>\n",
       "    </tr>\n",
       "    <tr>\n",
       "      <th>Fremont-Unified</th>\n",
       "      <td>4</td>\n",
       "      <td>3</td>\n",
       "    </tr>\n",
       "  </tbody>\n",
       "</table>\n",
       "</div>"
      ],
      "text/plain": [
       "                                Total GO Bonds and Parcel Taxes Attempted (2000-2029)  \\\n",
       "Hayward-Unified                                                                 5       \n",
       "Pleasanton-Unified                                                              5       \n",
       "Sunol-Glen-Unified                                                              2       \n",
       "Dublin-Unified                                                                  7       \n",
       "San-Lorenzo-Unified                                                             4       \n",
       "San-Leandro-Unified                                                             8       \n",
       "Piedmont-City-Unified                                                          10       \n",
       "Mountain-House-Elementary                                                    <NA>       \n",
       "Alameda-Unified                                                                 9       \n",
       "Albany-City-Unified                                                             9       \n",
       "Berkeley-Unified                                                                9       \n",
       "New-Haven-Unified                                                               4       \n",
       "Oakland-Unified                                                                11       \n",
       "Castro-Valley-Unified                                                           4       \n",
       "Emery-Unified                                                                   5       \n",
       "Livermore-Valley-Joint-Unified                                                  6       \n",
       "Newark-Unified                                                                  2       \n",
       "Fremont-Unified                                                                 4       \n",
       "\n",
       "                                Total GO Bonds and Parcel Taxes Passed (2000-2029)  \n",
       "Hayward-Unified                                                                 5   \n",
       "Pleasanton-Unified                                                              2   \n",
       "Sunol-Glen-Unified                                                              1   \n",
       "Dublin-Unified                                                                  6   \n",
       "San-Lorenzo-Unified                                                             4   \n",
       "San-Leandro-Unified                                                             6   \n",
       "Piedmont-City-Unified                                                           9   \n",
       "Mountain-House-Elementary                                                    <NA>   \n",
       "Alameda-Unified                                                                 8   \n",
       "Albany-City-Unified                                                             9   \n",
       "Berkeley-Unified                                                                9   \n",
       "New-Haven-Unified                                                               2   \n",
       "Oakland-Unified                                                                 9   \n",
       "Castro-Valley-Unified                                                           3   \n",
       "Emery-Unified                                                                   5   \n",
       "Livermore-Valley-Joint-Unified                                                  5   \n",
       "Newark-Unified                                                                  1   \n",
       "Fremont-Unified                                                                 3   "
      ]
     },
     "execution_count": 125,
     "metadata": {},
     "output_type": "execute_result"
    }
   ],
   "source": [
    "bond_df = pd.DataFrame.from_dict(alameda_bonds_dict, orient='index', columns=['Total GO Bonds and Parcel Taxes Attempted (2000-2029)', 'Total GO Bonds and Parcel Taxes Passed (2000-2029)'])\n",
    "bond_df.astype('Int64')"
   ]
  },
  {
   "cell_type": "code",
   "execution_count": null,
   "metadata": {},
   "outputs": [],
   "source": []
  },
  {
   "cell_type": "markdown",
   "metadata": {},
   "source": [
    "# GO BOND C3-4"
   ]
  },
  {
   "cell_type": "code",
   "execution_count": 2,
   "metadata": {},
   "outputs": [
    {
     "name": "stderr",
     "output_type": "stream",
     "text": [
      "The chromedriver version (117.0.5938.92) detected in PATH at /usr/local/bin/chromedriver might not be compatible with the detected chrome version (118.0.5993.117); currently, chromedriver 118.0.5993.70 is recommended for chrome 118.*, so it is advised to delete the driver in PATH and retry\n"
     ]
    }
   ],
   "source": [
    "driver = webdriver.Chrome()\n",
    "driver.get(\"https://www.ed-data.org/district/Alameda/Hayward-Unified\")"
   ]
  },
  {
   "cell_type": "code",
   "execution_count": 3,
   "metadata": {},
   "outputs": [],
   "source": [
    "# click a button to the Local Revenue Elections page\n",
    "elections_button = driver.find_element(By.XPATH, '//*[@id=\"horizontalTab\"]/ul/li[4]').click()\n",
    "\n",
    "# click a button to drop down to the detail page\n",
    "detail_button = driver.find_element(By.XPATH, '//*[@id=\"election-data-tab\"]/h2[2]').click()"
   ]
  },
  {
   "cell_type": "markdown",
   "metadata": {},
   "source": [
    "pseudo code:\n",
    "1. find all the containers\n",
    "2. loop thru them all and see if they are go bonds, if they are, append them to the list 'go_bond_lst'\n",
    "3. loop thru the 'go_bond_lst', check if it is passed and year >= 2000. if both conditions satisfied, then record down their year and $ using dictionary\n",
    "4. loop thru the keys in dictionary find the largest year value, and add up all the values"
   ]
  },
  {
   "cell_type": "code",
   "execution_count": 4,
   "metadata": {},
   "outputs": [],
   "source": [
    "html = driver.page_source\n",
    "soup = BeautifulSoup(html, 'html.parser')\n",
    "\n",
    "# step 1: find all containers\n",
    "detail_container = soup.find('div', {'id': 'packeryContainer-6'})\n",
    "containers = soup.find_all('div', {'class': 'card-container packery-handle'})"
   ]
  },
  {
   "cell_type": "code",
   "execution_count": 5,
   "metadata": {},
   "outputs": [
    {
     "data": {
      "text/plain": [
       "3"
      ]
     },
     "execution_count": 5,
     "metadata": {},
     "output_type": "execute_result"
    }
   ],
   "source": [
    "# step 2: loop thru all containers to see if they are go bonds\n",
    "go_bond_list = []\n",
    "for container in containers:\n",
    "    title_div = container.find('div', {'class':'bptcontent'})\n",
    "    title_head = title_div.find('h1')\n",
    "    if title_head.text == 'GO Bond':\n",
    "        go_bond_list.append(container)\n",
    "\n",
    "len(go_bond_list)"
   ]
  },
  {
   "cell_type": "code",
   "execution_count": 35,
   "metadata": {},
   "outputs": [],
   "source": [
    "# step 3: loop thru the 'go_bond_list', select those that are 'passed' and have 'year' >= 2000\n",
    "passed_bonds = {}\n",
    "for bond in go_bond_list:\n",
    "    year_div = bond.find('div', {'class': 'vdatebg'})\n",
    "    h5_element = year_div.find('h5', {'class': 'card-date'})\n",
    "    span_element = h5_element.find('span')\n",
    "    year = int(span_element.get_text())\n",
    "    if year >= 2000:\n",
    "        pass_div = bond.find('div', {'class': 'bptpass'})\n",
    "        h1_element = pass_div.find('h1')\n",
    "        pass_state = h1_element.get_text()\n",
    "        if pass_state == 'Passed':\n",
    "            bpt_content = bond.find('div', {'class': 'bptcontent'})\n",
    "            h2_element = bpt_content.find('h2')\n",
    "            funding = h2_element.get_text()\n",
    "            cleaned_funding = int(funding.replace('$', '').replace(',', ''))\n",
    "            passed_bonds[year] = cleaned_funding"
   ]
  },
  {
   "cell_type": "code",
   "execution_count": 44,
   "metadata": {},
   "outputs": [
    {
     "data": {
      "text/plain": [
       "(2018, 815700000)"
      ]
     },
     "execution_count": 44,
     "metadata": {},
     "output_type": "execute_result"
    }
   ],
   "source": [
    "# step 4: find the most recent year and total funding\n",
    "most_recent_year = max(passed_bonds.keys())\n",
    "total_funding = sum(passed_bonds.values())\n",
    "most_recent_year, total_funding"
   ]
  },
  {
   "cell_type": "code",
   "execution_count": 15,
   "metadata": {},
   "outputs": [],
   "source": [
    "def go_bonds_c34(county, district):\n",
    "    '''\n",
    "    Function: Find the last two columns of the GO Bonds information\n",
    "\n",
    "    Input:\n",
    "    county eg. Alameda\n",
    "    district eg. Hayward-Unified\n",
    "\n",
    "    Output:\n",
    "    Most Recent Passed GO Bond Measure Year (2000-2029) \n",
    "    Total Amount of GO Bond Measure Funding ($) (2000 - 2029)\n",
    "    '''\n",
    "    driver = webdriver.Chrome()\n",
    "    url = f'https://www.ed-data.org/district/{county}/{district}'\n",
    "    driver.get(url)\n",
    "    \n",
    "    # click a button to the Local Revenue Elections page\n",
    "    elections_button = driver.find_element(By.XPATH, '//*[@id=\"horizontalTab\"]/ul/li[4]').click()\n",
    "\n",
    "    # click a button to drop down to the detail page\n",
    "    detail_button = driver.find_element(By.XPATH, '//*[@id=\"election-data-tab\"]/h2[2]').click()\n",
    "\n",
    "    html = driver.page_source\n",
    "    soup = BeautifulSoup(html, 'html.parser')\n",
    "\n",
    "    # step 1: find all containers\n",
    "    detail_container = soup.find('div', {'id': 'packeryContainer-6'})\n",
    "    containers = soup.find_all('div', {'class': 'card-container packery-handle'})\n",
    "\n",
    "    # step 2: loop thru all containers to see if they are go bonds\n",
    "    go_bond_list = []\n",
    "    for container in containers:\n",
    "        title_div = container.find('div', {'class':'bptcontent'})\n",
    "        title_head = title_div.find('h1')\n",
    "        if title_head.text == 'GO Bond':\n",
    "            go_bond_list.append(container)\n",
    "\n",
    "    # step 3: loop thru the 'go_bond_list', select those that are 'passed' and have 'year' >= 2000\n",
    "    passed_bonds = {}\n",
    "    for bond in go_bond_list:\n",
    "        year_div = bond.find('div', {'class': 'vdatebg'})\n",
    "        h5_element = year_div.find('h5', {'class': 'card-date'})\n",
    "        span_element = h5_element.find('span')\n",
    "        year = int(span_element.get_text())\n",
    "        if year >= 2000:\n",
    "            pass_div = bond.find('div', {'class': 'bptpass'})\n",
    "            # h1_element = pass_div.find('h1')\n",
    "            # pass_state = h1_element.get_text()\n",
    "            if pass_div:\n",
    "                bpt_content = bond.find('div', {'class': 'bptcontent'})\n",
    "                h2_element = bpt_content.find('h2')\n",
    "                funding = h2_element.get_text()\n",
    "                cleaned_funding = int(funding.replace('$', '').replace(',', ''))\n",
    "                passed_bonds[year] = cleaned_funding\n",
    "\n",
    "    # step 4: find the most recent year and total funding\n",
    "    if passed_bonds: \n",
    "        most_recent_year = max(passed_bonds.keys())\n",
    "        total_funding = sum(passed_bonds.values())\n",
    "    else: \n",
    "        most_recent_year = None\n",
    "        total_funding = None\n",
    "\n",
    "    # Print the results\n",
    "    print(\"Most Recent Passed GO Bond Measure Year (2000-2029) for \"+ district + \": \", most_recent_year)\n",
    "    print(\"Total Amount of GO Bond Measure Funding ($) (2000 - 2029) for \"+ district + \": \", total_funding)\n",
    "    driver.quit()\n",
    "    return most_recent_year, total_funding"
   ]
  },
  {
   "cell_type": "code",
   "execution_count": null,
   "metadata": {},
   "outputs": [],
   "source": [
    "alameda_hayward_bond_c34 = go_bonds_c34('Alameda', 'Hayward-Unified')\n",
    "alameda_hayward_bond_c34"
   ]
  },
  {
   "cell_type": "code",
   "execution_count": 15,
   "metadata": {},
   "outputs": [
    {
     "name": "stdout",
     "output_type": "stream",
     "text": [
      "Most Recent Passed GO Bond Measure Year (2000-2029) for Pleasanton-Unified:  2022\n",
      "Total Amount of GO Bond Measure Funding ($) (2000 - 2029) for Pleasanton-Unified:  665000000\n"
     ]
    },
    {
     "data": {
      "text/plain": [
       "(2022, 665000000)"
      ]
     },
     "execution_count": 15,
     "metadata": {},
     "output_type": "execute_result"
    }
   ],
   "source": [
    "alameda_Pleasanton_Unified_bond_c34 = go_bonds_c34('Alameda', 'Pleasanton-Unified')\n",
    "alameda_Pleasanton_Unified_bond_c34"
   ]
  },
  {
   "cell_type": "code",
   "execution_count": 7,
   "metadata": {},
   "outputs": [
    {
     "name": "stdout",
     "output_type": "stream",
     "text": [
      "Most Recent Passed GO Bond Measure Year (2000-2029) for Pleasanton-Unified:  2022\n",
      "Total Amount of GO Bond Measure Funding ($) (2000 - 2029) for Pleasanton-Unified:  665000000\n"
     ]
    }
   ],
   "source": [
    "county='Alameda'\n",
    "district='Pleasanton-Unified'\n",
    "driver = webdriver.Chrome()\n",
    "url = f'https://www.ed-data.org/district/{county}/{district}'\n",
    "driver.get(url)\n",
    "\n",
    "# click a button to the Local Revenue Elections page\n",
    "elections_button = driver.find_element(By.XPATH, '//*[@id=\"horizontalTab\"]/ul/li[4]').click()\n",
    "\n",
    "# click a button to drop down to the detail page\n",
    "detail_button = driver.find_element(By.XPATH, '//*[@id=\"election-data-tab\"]/h2[2]').click()\n",
    "\n",
    "html = driver.page_source\n",
    "soup = BeautifulSoup(html, 'html.parser')\n",
    "\n",
    "# step 1: find all containers\n",
    "detail_container = soup.find('div', {'id': 'packeryContainer-6'})\n",
    "containers = soup.find_all('div', {'class': 'card-container packery-handle'})\n",
    "\n",
    "# step 2: loop thru all containers to see if they are go bonds\n",
    "go_bond_list = []\n",
    "for container in containers:\n",
    "    title_div = container.find('div', {'class':'bptcontent'})\n",
    "    title_head = title_div.find('h1')\n",
    "    if title_head.text == 'GO Bond':\n",
    "        go_bond_list.append(container)\n",
    "\n",
    "# step 3: loop thru the 'go_bond_list', select those that are 'passed' and have 'year' >= 2000\n",
    "passed_bonds = {}\n",
    "for bond in go_bond_list:\n",
    "    year_div = bond.find('div', {'class': 'vdatebg'})\n",
    "    h5_element = year_div.find('h5', {'class': 'card-date'})\n",
    "    span_element = h5_element.find('span')\n",
    "    year = int(span_element.get_text())\n",
    "    if year >= 2000:\n",
    "        pass_div = bond.find('div', {'class': 'bptpass'})\n",
    "        # h1_element = pass_div.find('h1')\n",
    "        # pass_state = h1_element.get_text()\n",
    "        if pass_div:\n",
    "            bpt_content = bond.find('div', {'class': 'bptcontent'})\n",
    "            h2_element = bpt_content.find('h2')\n",
    "            funding = h2_element.get_text()\n",
    "            cleaned_funding = int(funding.replace('$', '').replace(',', ''))\n",
    "            passed_bonds[year] = cleaned_funding\n",
    "\n",
    "# step 4: find the most recent year and total funding\n",
    "if passed_bonds: \n",
    "    most_recent_year = max(passed_bonds.keys())\n",
    "    total_funding = sum(passed_bonds.values())\n",
    "else: \n",
    "    most_recent_year = None\n",
    "    total_funding = None\n",
    "# Print the results\n",
    "print(\"Most Recent Passed GO Bond Measure Year (2000-2029) for \"+ district + \": \", most_recent_year)\n",
    "print(\"Total Amount of GO Bond Measure Funding ($) (2000 - 2029) for \"+ district + \": \", total_funding)\n",
    "driver.quit()"
   ]
  },
  {
   "cell_type": "code",
   "execution_count": null,
   "metadata": {},
   "outputs": [],
   "source": []
  },
  {
   "cell_type": "code",
   "execution_count": 11,
   "metadata": {},
   "outputs": [],
   "source": [
    "alameda_text = \"\"\"Hayward Unified\n",
    "Pleasanton Unified\n",
    "Sunol Glen Unified\n",
    "Dublin Unified\n",
    "San Lorenzo Unified\n",
    "San Leandro Unified\n",
    "Piedmont City Unified\n",
    "Mountain House Elementary\n",
    "Alameda Unified\n",
    "Albany City Unified\n",
    "Berkeley Unified\n",
    "New Haven Unified\n",
    "Oakland Unified\n",
    "Castro Valley Unified\n",
    "Emery Unified\n",
    "Livermore Valley Joint Unified\n",
    "Newark Unified\n",
    "Fremont Unified\"\"\""
   ]
  },
  {
   "cell_type": "code",
   "execution_count": 16,
   "metadata": {},
   "outputs": [],
   "source": [
    "def automated_bonds_c34(county_name, districts_text):\n",
    "    '''\n",
    "    county_name eg. 'Alameda'\n",
    "    districts_text: copy the school district names from master county tracker\n",
    "    '''\n",
    "    districts_list = districts_text.split('\\n')\n",
    "    # Add a hyphen between each word in each district name\n",
    "    districts_with_hyphen = ['-'.join(district.split()) for district in districts_list]\n",
    "    bonds_dict = {}\n",
    "    for district in districts_with_hyphen:\n",
    "        bonds_data_comibned = go_bonds_c34(county_name, district)\n",
    "        bonds_dict[district] = bonds_data_comibned\n",
    "    return bonds_dict"
   ]
  },
  {
   "cell_type": "code",
   "execution_count": 17,
   "metadata": {},
   "outputs": [
    {
     "name": "stdout",
     "output_type": "stream",
     "text": [
      "Most Recent Passed GO Bond Measure Year (2000-2029) for Cienega-Union-Elementary:  None\n",
      "Total Amount of GO Bond Measure Funding ($) (2000 - 2029) for Cienega-Union-Elementary:  None\n",
      "Most Recent Passed GO Bond Measure Year (2000-2029) for Hollister:  2016\n",
      "Total Amount of GO Bond Measure Funding ($) (2000 - 2029) for Hollister:  64500000\n",
      "Most Recent Passed GO Bond Measure Year (2000-2029) for Jefferson-Elementary:  None\n",
      "Total Amount of GO Bond Measure Funding ($) (2000 - 2029) for Jefferson-Elementary:  None\n",
      "Most Recent Passed GO Bond Measure Year (2000-2029) for New-Idria-Elementary:  None\n",
      "Total Amount of GO Bond Measure Funding ($) (2000 - 2029) for New-Idria-Elementary:  None\n",
      "Most Recent Passed GO Bond Measure Year (2000-2029) for North-County-Joint-Union-Elementary:  2006\n",
      "Total Amount of GO Bond Measure Funding ($) (2000 - 2029) for North-County-Joint-Union-Elementary:  3300000\n",
      "Most Recent Passed GO Bond Measure Year (2000-2029) for Olympia-Elementary:  None\n",
      "Total Amount of GO Bond Measure Funding ($) (2000 - 2029) for Olympia-Elementary:  None\n",
      "Most Recent Passed GO Bond Measure Year (2000-2029) for Panoche-Elementary:  None\n",
      "Total Amount of GO Bond Measure Funding ($) (2000 - 2029) for Panoche-Elementary:  None\n"
     ]
    },
    {
     "ename": "NoSuchElementException",
     "evalue": "Message: no such element: Unable to locate element: {\"method\":\"xpath\",\"selector\":\"//*[@id=\"horizontalTab\"]/ul/li[4]\"}\n  (Session info: chrome=119.0.6045.105); For documentation on this error, please visit: https://www.selenium.dev/documentation/webdriver/troubleshooting/errors#no-such-element-exception\nStacktrace:\n0   chromedriver                        0x00000001032a2004 chromedriver + 4169732\n1   chromedriver                        0x0000000103299ff8 chromedriver + 4136952\n2   chromedriver                        0x0000000102eef500 chromedriver + 292096\n3   chromedriver                        0x0000000102f347a0 chromedriver + 575392\n4   chromedriver                        0x0000000102f6f818 chromedriver + 817176\n5   chromedriver                        0x0000000102f285e8 chromedriver + 525800\n6   chromedriver                        0x0000000102f294b8 chromedriver + 529592\n7   chromedriver                        0x0000000103268334 chromedriver + 3932980\n8   chromedriver                        0x000000010326c970 chromedriver + 3950960\n9   chromedriver                        0x0000000103250774 chromedriver + 3835764\n10  chromedriver                        0x000000010326d478 chromedriver + 3953784\n11  chromedriver                        0x0000000103242ab4 chromedriver + 3779252\n12  chromedriver                        0x0000000103289914 chromedriver + 4069652\n13  chromedriver                        0x0000000103289a90 chromedriver + 4070032\n14  chromedriver                        0x0000000103299c70 chromedriver + 4136048\n15  libsystem_pthread.dylib             0x00000001c1cfc26c _pthread_start + 148\n16  libsystem_pthread.dylib             0x00000001c1cf708c thread_start + 8\n",
     "output_type": "error",
     "traceback": [
      "\u001b[0;31m---------------------------------------------------------------------------\u001b[0m",
      "\u001b[0;31mNoSuchElementException\u001b[0m                    Traceback (most recent call last)",
      "\u001b[1;32m/Users/michellelin/Desktop/Ten Strands/webscrapping_Michelle.ipynb Cell 53\u001b[0m line \u001b[0;36m<cell line: 1>\u001b[0;34m()\u001b[0m\n\u001b[0;32m----> <a href='vscode-notebook-cell:/Users/michellelin/Desktop/Ten%20Strands/webscrapping_Michelle.ipynb#Y112sZmlsZQ%3D%3D?line=0'>1</a>\u001b[0m san_benito_bond_34 \u001b[39m=\u001b[39m automated_bonds_c34(\u001b[39m'\u001b[39;49m\u001b[39mSan Benito\u001b[39;49m\u001b[39m'\u001b[39;49m, san_benito_text)\n",
      "\u001b[1;32m/Users/michellelin/Desktop/Ten Strands/webscrapping_Michelle.ipynb Cell 53\u001b[0m line \u001b[0;36mautomated_bonds_c34\u001b[0;34m(county_name, districts_text)\u001b[0m\n\u001b[1;32m      <a href='vscode-notebook-cell:/Users/michellelin/Desktop/Ten%20Strands/webscrapping_Michelle.ipynb#Y112sZmlsZQ%3D%3D?line=8'>9</a>\u001b[0m bonds_dict \u001b[39m=\u001b[39m {}\n\u001b[1;32m     <a href='vscode-notebook-cell:/Users/michellelin/Desktop/Ten%20Strands/webscrapping_Michelle.ipynb#Y112sZmlsZQ%3D%3D?line=9'>10</a>\u001b[0m \u001b[39mfor\u001b[39;00m district \u001b[39min\u001b[39;00m districts_with_hyphen:\n\u001b[0;32m---> <a href='vscode-notebook-cell:/Users/michellelin/Desktop/Ten%20Strands/webscrapping_Michelle.ipynb#Y112sZmlsZQ%3D%3D?line=10'>11</a>\u001b[0m     bonds_data_comibned \u001b[39m=\u001b[39m go_bonds_c34(county_name, district)\n\u001b[1;32m     <a href='vscode-notebook-cell:/Users/michellelin/Desktop/Ten%20Strands/webscrapping_Michelle.ipynb#Y112sZmlsZQ%3D%3D?line=11'>12</a>\u001b[0m     bonds_dict[district] \u001b[39m=\u001b[39m bonds_data_comibned\n\u001b[1;32m     <a href='vscode-notebook-cell:/Users/michellelin/Desktop/Ten%20Strands/webscrapping_Michelle.ipynb#Y112sZmlsZQ%3D%3D?line=12'>13</a>\u001b[0m \u001b[39mreturn\u001b[39;00m bonds_dict\n",
      "\u001b[1;32m/Users/michellelin/Desktop/Ten Strands/webscrapping_Michelle.ipynb Cell 53\u001b[0m line \u001b[0;36mgo_bonds_c34\u001b[0;34m(county, district)\u001b[0m\n\u001b[1;32m     <a href='vscode-notebook-cell:/Users/michellelin/Desktop/Ten%20Strands/webscrapping_Michelle.ipynb#Y112sZmlsZQ%3D%3D?line=14'>15</a>\u001b[0m driver\u001b[39m.\u001b[39mget(url)\n\u001b[1;32m     <a href='vscode-notebook-cell:/Users/michellelin/Desktop/Ten%20Strands/webscrapping_Michelle.ipynb#Y112sZmlsZQ%3D%3D?line=16'>17</a>\u001b[0m \u001b[39m# click a button to the Local Revenue Elections page\u001b[39;00m\n\u001b[0;32m---> <a href='vscode-notebook-cell:/Users/michellelin/Desktop/Ten%20Strands/webscrapping_Michelle.ipynb#Y112sZmlsZQ%3D%3D?line=17'>18</a>\u001b[0m elections_button \u001b[39m=\u001b[39m driver\u001b[39m.\u001b[39;49mfind_element(By\u001b[39m.\u001b[39;49mXPATH, \u001b[39m'\u001b[39;49m\u001b[39m//*[@id=\u001b[39;49m\u001b[39m\"\u001b[39;49m\u001b[39mhorizontalTab\u001b[39;49m\u001b[39m\"\u001b[39;49m\u001b[39m]/ul/li[4]\u001b[39;49m\u001b[39m'\u001b[39;49m)\u001b[39m.\u001b[39mclick()\n\u001b[1;32m     <a href='vscode-notebook-cell:/Users/michellelin/Desktop/Ten%20Strands/webscrapping_Michelle.ipynb#Y112sZmlsZQ%3D%3D?line=19'>20</a>\u001b[0m \u001b[39m# click a button to drop down to the detail page\u001b[39;00m\n\u001b[1;32m     <a href='vscode-notebook-cell:/Users/michellelin/Desktop/Ten%20Strands/webscrapping_Michelle.ipynb#Y112sZmlsZQ%3D%3D?line=20'>21</a>\u001b[0m detail_button \u001b[39m=\u001b[39m driver\u001b[39m.\u001b[39mfind_element(By\u001b[39m.\u001b[39mXPATH, \u001b[39m'\u001b[39m\u001b[39m//*[@id=\u001b[39m\u001b[39m\"\u001b[39m\u001b[39melection-data-tab\u001b[39m\u001b[39m\"\u001b[39m\u001b[39m]/h2[2]\u001b[39m\u001b[39m'\u001b[39m)\u001b[39m.\u001b[39mclick()\n",
      "File \u001b[0;32m~/opt/anaconda3/lib/python3.9/site-packages/selenium/webdriver/remote/webdriver.py:738\u001b[0m, in \u001b[0;36mWebDriver.find_element\u001b[0;34m(self, by, value)\u001b[0m\n\u001b[1;32m    735\u001b[0m     by \u001b[39m=\u001b[39m By\u001b[39m.\u001b[39mCSS_SELECTOR\n\u001b[1;32m    736\u001b[0m     value \u001b[39m=\u001b[39m \u001b[39mf\u001b[39m\u001b[39m'\u001b[39m\u001b[39m[name=\u001b[39m\u001b[39m\"\u001b[39m\u001b[39m{\u001b[39;00mvalue\u001b[39m}\u001b[39;00m\u001b[39m\"\u001b[39m\u001b[39m]\u001b[39m\u001b[39m'\u001b[39m\n\u001b[0;32m--> 738\u001b[0m \u001b[39mreturn\u001b[39;00m \u001b[39mself\u001b[39;49m\u001b[39m.\u001b[39;49mexecute(Command\u001b[39m.\u001b[39;49mFIND_ELEMENT, {\u001b[39m\"\u001b[39;49m\u001b[39musing\u001b[39;49m\u001b[39m\"\u001b[39;49m: by, \u001b[39m\"\u001b[39;49m\u001b[39mvalue\u001b[39;49m\u001b[39m\"\u001b[39;49m: value})[\u001b[39m\"\u001b[39m\u001b[39mvalue\u001b[39m\u001b[39m\"\u001b[39m]\n",
      "File \u001b[0;32m~/opt/anaconda3/lib/python3.9/site-packages/selenium/webdriver/remote/webdriver.py:344\u001b[0m, in \u001b[0;36mWebDriver.execute\u001b[0;34m(self, driver_command, params)\u001b[0m\n\u001b[1;32m    342\u001b[0m response \u001b[39m=\u001b[39m \u001b[39mself\u001b[39m\u001b[39m.\u001b[39mcommand_executor\u001b[39m.\u001b[39mexecute(driver_command, params)\n\u001b[1;32m    343\u001b[0m \u001b[39mif\u001b[39;00m response:\n\u001b[0;32m--> 344\u001b[0m     \u001b[39mself\u001b[39;49m\u001b[39m.\u001b[39;49merror_handler\u001b[39m.\u001b[39;49mcheck_response(response)\n\u001b[1;32m    345\u001b[0m     response[\u001b[39m\"\u001b[39m\u001b[39mvalue\u001b[39m\u001b[39m\"\u001b[39m] \u001b[39m=\u001b[39m \u001b[39mself\u001b[39m\u001b[39m.\u001b[39m_unwrap_value(response\u001b[39m.\u001b[39mget(\u001b[39m\"\u001b[39m\u001b[39mvalue\u001b[39m\u001b[39m\"\u001b[39m, \u001b[39mNone\u001b[39;00m))\n\u001b[1;32m    346\u001b[0m     \u001b[39mreturn\u001b[39;00m response\n",
      "File \u001b[0;32m~/opt/anaconda3/lib/python3.9/site-packages/selenium/webdriver/remote/errorhandler.py:229\u001b[0m, in \u001b[0;36mErrorHandler.check_response\u001b[0;34m(self, response)\u001b[0m\n\u001b[1;32m    227\u001b[0m         alert_text \u001b[39m=\u001b[39m value[\u001b[39m\"\u001b[39m\u001b[39malert\u001b[39m\u001b[39m\"\u001b[39m]\u001b[39m.\u001b[39mget(\u001b[39m\"\u001b[39m\u001b[39mtext\u001b[39m\u001b[39m\"\u001b[39m)\n\u001b[1;32m    228\u001b[0m     \u001b[39mraise\u001b[39;00m exception_class(message, screen, stacktrace, alert_text)  \u001b[39m# type: ignore[call-arg]  # mypy is not smart enough here\u001b[39;00m\n\u001b[0;32m--> 229\u001b[0m \u001b[39mraise\u001b[39;00m exception_class(message, screen, stacktrace)\n",
      "\u001b[0;31mNoSuchElementException\u001b[0m: Message: no such element: Unable to locate element: {\"method\":\"xpath\",\"selector\":\"//*[@id=\"horizontalTab\"]/ul/li[4]\"}\n  (Session info: chrome=119.0.6045.105); For documentation on this error, please visit: https://www.selenium.dev/documentation/webdriver/troubleshooting/errors#no-such-element-exception\nStacktrace:\n0   chromedriver                        0x00000001032a2004 chromedriver + 4169732\n1   chromedriver                        0x0000000103299ff8 chromedriver + 4136952\n2   chromedriver                        0x0000000102eef500 chromedriver + 292096\n3   chromedriver                        0x0000000102f347a0 chromedriver + 575392\n4   chromedriver                        0x0000000102f6f818 chromedriver + 817176\n5   chromedriver                        0x0000000102f285e8 chromedriver + 525800\n6   chromedriver                        0x0000000102f294b8 chromedriver + 529592\n7   chromedriver                        0x0000000103268334 chromedriver + 3932980\n8   chromedriver                        0x000000010326c970 chromedriver + 3950960\n9   chromedriver                        0x0000000103250774 chromedriver + 3835764\n10  chromedriver                        0x000000010326d478 chromedriver + 3953784\n11  chromedriver                        0x0000000103242ab4 chromedriver + 3779252\n12  chromedriver                        0x0000000103289914 chromedriver + 4069652\n13  chromedriver                        0x0000000103289a90 chromedriver + 4070032\n14  chromedriver                        0x0000000103299c70 chromedriver + 4136048\n15  libsystem_pthread.dylib             0x00000001c1cfc26c _pthread_start + 148\n16  libsystem_pthread.dylib             0x00000001c1cf708c thread_start + 8\n"
     ]
    }
   ],
   "source": [
    "san_benito_bond_34 = automated_bonds_c34('San Benito', san_benito_text)"
   ]
  },
  {
   "cell_type": "code",
   "execution_count": 16,
   "metadata": {},
   "outputs": [
    {
     "name": "stdout",
     "output_type": "stream",
     "text": [
      "Most Recent Passed GO Bond Measure Year (2000-2029) for Hayward-Unified:  None\n",
      "Total Amount of GO Bond Measure Funding ($) (2000 - 2029) for Hayward-Unified:  None\n",
      "Most Recent Passed GO Bond Measure Year (2000-2029) for Pleasanton-Unified:  2022\n",
      "Total Amount of GO Bond Measure Funding ($) (2000 - 2029) for Pleasanton-Unified:  665000000\n",
      "Most Recent Passed GO Bond Measure Year (2000-2029) for Sunol-Glen-Unified:  2022\n",
      "Total Amount of GO Bond Measure Funding ($) (2000 - 2029) for Sunol-Glen-Unified:  10900000\n",
      "Most Recent Passed GO Bond Measure Year (2000-2029) for Dublin-Unified:  2020\n",
      "Total Amount of GO Bond Measure Funding ($) (2000 - 2029) for Dublin-Unified:  856000000\n",
      "Most Recent Passed GO Bond Measure Year (2000-2029) for San-Lorenzo-Unified:  2018\n",
      "Total Amount of GO Bond Measure Funding ($) (2000 - 2029) for San-Lorenzo-Unified:  145000000\n",
      "Most Recent Passed GO Bond Measure Year (2000-2029) for San-Leandro-Unified:  2020\n",
      "Total Amount of GO Bond Measure Funding ($) (2000 - 2029) for San-Leandro-Unified:  461100000\n",
      "Most Recent Passed GO Bond Measure Year (2000-2029) for Piedmont-City-Unified:  2016\n",
      "Total Amount of GO Bond Measure Funding ($) (2000 - 2029) for Piedmont-City-Unified:  122000000\n",
      "Most Recent Passed GO Bond Measure Year (2000-2029) for Mountain-House-Elementary:  None\n",
      "Total Amount of GO Bond Measure Funding ($) (2000 - 2029) for Mountain-House-Elementary:  None\n",
      "Most Recent Passed GO Bond Measure Year (2000-2029) for Alameda-Unified:  None\n",
      "Total Amount of GO Bond Measure Funding ($) (2000 - 2029) for Alameda-Unified:  None\n",
      "Most Recent Passed GO Bond Measure Year (2000-2029) for Albany-City-Unified:  2016\n",
      "Total Amount of GO Bond Measure Funding ($) (2000 - 2029) for Albany-City-Unified:  48000000\n",
      "Most Recent Passed GO Bond Measure Year (2000-2029) for Berkeley-Unified:  None\n",
      "Total Amount of GO Bond Measure Funding ($) (2000 - 2029) for Berkeley-Unified:  None\n",
      "Most Recent Passed GO Bond Measure Year (2000-2029) for New-Haven-Unified:  2014\n",
      "Total Amount of GO Bond Measure Funding ($) (2000 - 2029) for New-Haven-Unified:  245000000\n",
      "Most Recent Passed GO Bond Measure Year (2000-2029) for Oakland-Unified:  2020\n",
      "Total Amount of GO Bond Measure Funding ($) (2000 - 2029) for Oakland-Unified:  1948000000\n",
      "Most Recent Passed GO Bond Measure Year (2000-2029) for Castro-Valley-Unified:  2016\n",
      "Total Amount of GO Bond Measure Funding ($) (2000 - 2029) for Castro-Valley-Unified:  183800000\n",
      "Most Recent Passed GO Bond Measure Year (2000-2029) for Emery-Unified:  2010\n",
      "Total Amount of GO Bond Measure Funding ($) (2000 - 2029) for Emery-Unified:  95000000\n",
      "Most Recent Passed GO Bond Measure Year (2000-2029) for Livermore-Valley-Joint-Unified:  2016\n",
      "Total Amount of GO Bond Measure Funding ($) (2000 - 2029) for Livermore-Valley-Joint-Unified:  245000000\n",
      "Most Recent Passed GO Bond Measure Year (2000-2029) for Newark-Unified:  None\n",
      "Total Amount of GO Bond Measure Funding ($) (2000 - 2029) for Newark-Unified:  None\n",
      "Most Recent Passed GO Bond Measure Year (2000-2029) for Fremont-Unified:  2014\n",
      "Total Amount of GO Bond Measure Funding ($) (2000 - 2029) for Fremont-Unified:  807200000\n"
     ]
    }
   ],
   "source": [
    "alameda_bonds_34 = automated_bonds_c34('Alameda', alameda_text)"
   ]
  },
  {
   "cell_type": "code",
   "execution_count": 8,
   "metadata": {},
   "outputs": [],
   "source": [
    "def go_bonds_combined(county, district):\n",
    "    '''\n",
    "    Function: Find the GO Bonds information\n",
    "\n",
    "    Input:\n",
    "    county eg. Alameda\n",
    "    district eg. Hayward-Unified\n",
    "\n",
    "    Output:\n",
    "    Total GO Bonds and Parcel Taxes Attempted (2000 - 2029)\n",
    "    Total GO Bonds and Parcel Taxes Passed (2000 - 2029)\n",
    "    Most Recent Passed GO Bond Measure Year (2000-2029) \n",
    "    Total Amount of GO Bond Measure Funding ($) (2000 - 2029)\n",
    "    '''\n",
    "    # Open a simulated chrome browser \n",
    "    driver = webdriver.Chrome()\n",
    "    url = f'https://www.ed-data.org/district/{county}/{district}'\n",
    "    driver.get(url)\n",
    "\n",
    "    # click a button to the Local Revenue Elections page\n",
    "    elections_button = driver.find_element(By.XPATH, '//*[@id=\"horizontalTab\"]/ul/li[4]').click()\n",
    "\n",
    "     # First two columns of the go bond info:\n",
    "\n",
    "     # extract data using beautiful soup\n",
    "    html = driver.page_source\n",
    "    soup = BeautifulSoup(html, 'html.parser')\n",
    "    main_div = soup.find('div', {\"id\": 'chartContent-153'})\n",
    "    if main_div:\n",
    "        table = main_div.find('table', class_='table footable table-bordered master-footable')\n",
    "        if table:\n",
    "            header_row = table.find('thead').find('tr')\n",
    "        else:\n",
    "            print('Table data is not found.')\n",
    "            driver.quit()\n",
    "            return \n",
    "    else:\n",
    "        print('Table data is not found.')\n",
    "        driver.quit()\n",
    "        return \n",
    "\n",
    "\n",
    "    # Initialize variables to store the results\n",
    "    total_gobonds_and_parcel_taxes_attempted = 0\n",
    "    total_gobonds_and_parcel_taxes_passed = 0\n",
    "\n",
    "    # Extract column names with years greater than or equal to 2000\n",
    "    columns_and_positions = [(col.text.strip(), i) for i, col in enumerate(header_row.find_all('th')) if '-' in col.text.strip() and int(col.text.strip().split('-')[0]) >= 2000]\n",
    "\n",
    "    # Find the \"Total\" and \"Passed\" rows\n",
    "    total_row = table.find('tfoot').find('tr', class_='chart-data-total')\n",
    "    passed_row = table.find('tbody').find_all('tr', class_='chart-data-row')[1]\n",
    "    \n",
    "    # Loop through the columns\n",
    "    for col_name, col_index in columns_and_positions:\n",
    "        # Get the value in the \"Total\" row for the current column\n",
    "        total_value = total_row.find_all('td')[col_index].text.strip()\n",
    "        try:\n",
    "            total_value = int(total_value)\n",
    "        except ValueError:\n",
    "            total_value = 0\n",
    "        total_gobonds_and_parcel_taxes_attempted += total_value\n",
    "\n",
    "        # Get the value in the \"Passed\" row for the current column\n",
    "        spans = passed_row.find_all(lambda tag: tag.name == 'span' and tag.get('class') == ['view-toggle'])\n",
    "        passed_value = spans[col_index-1].text.strip()\n",
    "        try:\n",
    "            passed_value = int(passed_value)\n",
    "        except ValueError:\n",
    "            passed_value = 0\n",
    "        total_gobonds_and_parcel_taxes_passed += passed_value\n",
    "\n",
    "    # Print the results\n",
    "    print(\"Total GO Bonds and Parcel Taxes Attempted (2000-2029) for \"+ district + \": \", total_gobonds_and_parcel_taxes_attempted)\n",
    "    print(\"Total GO Bonds and Parcel Taxes Passed (2000-2029) for \"+ district + \": \", total_gobonds_and_parcel_taxes_passed)\n",
    "\n",
    "    # Last two columns of the go bond info:\n",
    "    \n",
    "    # click a button to drop down to the detail page\n",
    "    detail_button = driver.find_element(By.XPATH, '//*[@id=\"election-data-tab\"]/h2[2]').click()\n",
    "\n",
    "    html = driver.page_source\n",
    "    soup = BeautifulSoup(html, 'html.parser')\n",
    "\n",
    "    # step 1: find all containers\n",
    "    detail_container = soup.find('div', {'id': 'packeryContainer-6'})\n",
    "    containers = soup.find_all('div', {'class': 'card-container packery-handle'})\n",
    "\n",
    "    # step 2: loop thru all containers to see if they are go bonds\n",
    "    go_bond_list = []\n",
    "    for container in containers:\n",
    "        title_div = container.find('div', {'class':'bptcontent'})\n",
    "        title_head = title_div.find('h1')\n",
    "        if title_head.text == 'GO Bond':\n",
    "            go_bond_list.append(container)\n",
    "\n",
    "    # step 3: loop thru the 'go_bond_list', select those that are 'passed' and have 'year' >= 2000\n",
    "    passed_bonds = {}\n",
    "    for bond in go_bond_list:\n",
    "        year_div = bond.find('div', {'class': 'vdatebg'})\n",
    "        h5_element = year_div.find('h5', {'class': 'card-date'})\n",
    "        span_element = h5_element.find('span')\n",
    "        year = int(span_element.get_text())\n",
    "        if year >= 2000:\n",
    "            pass_div = bond.find('div', {'class': 'bptpass'})\n",
    "            # h1_element = pass_div.find('h1')\n",
    "            # pass_state = h1_element.get_text()\n",
    "            if pass_div:\n",
    "                bpt_content = bond.find('div', {'class': 'bptcontent'})\n",
    "                h2_element = bpt_content.find('h2')\n",
    "                funding = h2_element.get_text()\n",
    "                cleaned_funding = int(funding.replace('$', '').replace(',', ''))\n",
    "                passed_bonds[year] = cleaned_funding\n",
    "\n",
    "   # step 4: find the most recent year and total funding\n",
    "    if passed_bonds: \n",
    "        most_recent_year = max(passed_bonds.keys())\n",
    "        total_funding = sum(passed_bonds.values())\n",
    "    else: \n",
    "        most_recent_year = None\n",
    "        total_funding = None\n",
    "\n",
    "    # Print the results\n",
    "    print(\"Most Recent Passed GO Bond Measure Year (2000-2029) for \"+ district + \": \", most_recent_year)\n",
    "    print(\"Total Amount of GO Bond Measure Funding ($) (2000 - 2029) for \"+ district + \": \", total_funding)\n",
    "\n",
    "    driver.quit()\n",
    "    return total_gobonds_and_parcel_taxes_attempted, total_gobonds_and_parcel_taxes_passed, most_recent_year, total_funding"
   ]
  },
  {
   "cell_type": "code",
   "execution_count": 9,
   "metadata": {},
   "outputs": [],
   "source": [
    "def automated_bonds(county_name, districts_text):\n",
    "    '''\n",
    "    county_name eg. 'Alameda'\n",
    "    districts_text: copy the school district names from master county tracker\n",
    "    '''\n",
    "    districts_list = districts_text.split('\\n')\n",
    "    # Add a hyphen between each word in each district name\n",
    "    districts_with_hyphen = ['-'.join(district.split()) for district in districts_list]\n",
    "    bonds_dict = {}\n",
    "    for district in districts_with_hyphen:\n",
    "        bonds_data_comibned = go_bonds_combined(county_name, district)\n",
    "        bonds_dict[district] = bonds_data_comibned\n",
    "    return bonds_dict"
   ]
  },
  {
   "cell_type": "code",
   "execution_count": 10,
   "metadata": {},
   "outputs": [
    {
     "ename": "NameError",
     "evalue": "name 'alameda_text' is not defined",
     "output_type": "error",
     "traceback": [
      "\u001b[0;31m---------------------------------------------------------------------------\u001b[0m",
      "\u001b[0;31mNameError\u001b[0m                                 Traceback (most recent call last)",
      "\u001b[1;32m/Users/michellelin/Desktop/Ten Strands/webscrapping_Michelle.ipynb Cell 53\u001b[0m line \u001b[0;36m<cell line: 1>\u001b[0;34m()\u001b[0m\n\u001b[0;32m----> <a href='vscode-notebook-cell:/Users/michellelin/Desktop/Ten%20Strands/webscrapping_Michelle.ipynb#Y103sZmlsZQ%3D%3D?line=0'>1</a>\u001b[0m alameda_go_bonds \u001b[39m=\u001b[39m automated_bonds(\u001b[39m'\u001b[39m\u001b[39mAlameda\u001b[39m\u001b[39m'\u001b[39m, alameda_text)\n",
      "\u001b[0;31mNameError\u001b[0m: name 'alameda_text' is not defined"
     ]
    }
   ],
   "source": [
    "alameda_go_bonds = automated_bonds('Alameda', alameda_text)"
   ]
  },
  {
   "cell_type": "code",
   "execution_count": null,
   "metadata": {},
   "outputs": [],
   "source": []
  }
 ],
 "metadata": {
  "kernelspec": {
   "display_name": "base",
   "language": "python",
   "name": "python3"
  },
  "language_info": {
   "codemirror_mode": {
    "name": "ipython",
    "version": 3
   },
   "file_extension": ".py",
   "mimetype": "text/x-python",
   "name": "python",
   "nbconvert_exporter": "python",
   "pygments_lexer": "ipython3",
   "version": "3.9.12"
  },
  "orig_nbformat": 4,
  "vscode": {
   "interpreter": {
    "hash": "3257903895510dce0b3794925c9ba2439a845f6fe433dae46861449495dcb2e6"
   }
  }
 },
 "nbformat": 4,
 "nbformat_minor": 2
}
